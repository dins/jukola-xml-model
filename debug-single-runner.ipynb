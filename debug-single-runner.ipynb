{
 "cells": [
  {
   "cell_type": "code",
   "execution_count": null,
   "metadata": {},
   "outputs": [],
   "source": [
    "import pandas as pd\n",
    "import numpy as np\n",
    "from scipy.stats import lognorm\n",
    "from scipy.stats import t\n",
    "import matplotlib.pyplot as plt\n",
    "import shared\n",
    "\n",
    "import time\n",
    "\n",
    "startTime = time.time()"
   ]
  },
  {
   "cell_type": "code",
   "execution_count": null,
   "metadata": {},
   "outputs": [],
   "source": [
    "#runner_name = \"Anniina Silvennoinen\"\n",
    "#runner2_name = \"Harry Jokela\"\n",
    "names = [\"Anniina Silvennoinen\", \"Harry Jokela\", \"Janne Ala-Äijälä\", \"Jeppe Koivula\", \"aku nikander\", \"Pertti Helin\"]\n",
    "names = [name.lower() for name in names]\n",
    "ve_or_ju = \"ju\"\n",
    "year = 2022\n",
    "names"
   ]
  },
  {
   "cell_type": "code",
   "execution_count": null,
   "metadata": {},
   "outputs": [],
   "source": [
    "grouped = pd.read_csv(f'data/grouped_paces_{f\"{ve_or_ju}_fy_{year}\"}.tsv', delimiter=\"\\t\")"
   ]
  },
  {
   "cell_type": "code",
   "execution_count": null,
   "metadata": {},
   "outputs": [],
   "source": [
    "grouped[grouped.name.isin(names)]"
   ]
  },
  {
   "cell_type": "code",
   "execution_count": null,
   "metadata": {},
   "outputs": [],
   "source": [
    "runs = pd.read_csv(f'data/runs_{f\"{ve_or_ju}_fy_{year}\"}.tsv', delimiter=\"\\t\")"
   ]
  },
  {
   "cell_type": "code",
   "execution_count": null,
   "metadata": {},
   "outputs": [],
   "source": [
    "runs[runs.name.isin(names)]"
   ]
  },
  {
   "cell_type": "code",
   "execution_count": null,
   "metadata": {},
   "outputs": [],
   "source": [
    "\n",
    "estimates = pd.read_csv(f'data/running_order_with_estimates_{f\"{ve_or_ju}_fy_{year}\"}.tsv', delimiter=\"\\t\")"
   ]
  },
  {
   "cell_type": "code",
   "execution_count": null,
   "metadata": {},
   "outputs": [],
   "source": [
    "estimates[\"final_pace\"] = np.exp(estimates[\"final_pace_mean\"])\n",
    "estimates[\"final_std\"] = np.exp(estimates[\"final_pace_std\"])\n",
    "estimates[estimates.name.isin(names)]"
   ]
  },
  {
   "cell_type": "code",
   "execution_count": null,
   "metadata": {},
   "outputs": [],
   "source": []
  },
  {
   "cell_type": "code",
   "execution_count": null,
   "metadata": {},
   "outputs": [],
   "source": []
  }
 ],
 "metadata": {
  "language_info": {
   "name": "python"
  }
 },
 "nbformat": 4,
 "nbformat_minor": 4
}
