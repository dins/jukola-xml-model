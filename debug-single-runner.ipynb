{
 "cells": [
  {
   "cell_type": "code",
   "execution_count": null,
   "metadata": {},
   "outputs": [],
   "source": [
    "import pandas as pd\n",
    "import numpy as np\n",
    "from scipy.stats import lognorm\n",
    "from scipy.stats import t\n",
    "import seaborn as sns\n",
    "import matplotlib.pyplot as plt\n",
    "import shared\n",
    "\n",
    "import time\n",
    "\n",
    "startTime = time.time()"
   ]
  },
  {
   "cell_type": "code",
   "execution_count": null,
   "metadata": {},
   "outputs": [],
   "source": [
    "#runner_name = \"Anniina Silvennoinen\"\n",
    "#runner2_name = \"Harry Jokela\"\n",
    "names = [\"Anniina Silvennoinen\", \"Harry Jokela\", \"Janne Ala-Äijälä\", \"Jeppe Koivula\", \"aku nikander\", \"Pertti Helin\", \"Timo Mouhu\"]\n",
    "names = [\"Janne Ala-Äijälä\", \"Jeppe Koivula\", \"Topi Penttinen\"]\n",
    "names = [name.lower() for name in names]\n",
    "ve_or_ju = \"ju\"\n",
    "year = 2023\n",
    "names"
   ]
  },
  {
   "cell_type": "code",
   "execution_count": null,
   "metadata": {},
   "outputs": [],
   "source": [
    "grouped = pd.read_csv(f'data/grouped_paces_{f\"{ve_or_ju}_fy_{year}\"}.tsv', delimiter=\"\\t\")"
   ]
  },
  {
   "cell_type": "code",
   "execution_count": null,
   "metadata": {},
   "outputs": [],
   "source": [
    "names_pattern = '|'.join(names)\n",
    "grouped[grouped.name.str.contains(names_pattern)]"
   ]
  },
  {
   "cell_type": "code",
   "execution_count": null,
   "metadata": {},
   "outputs": [],
   "source": [
    "runs = pd.read_csv(f'data/runs_{f\"{ve_or_ju}_fy_{year}\"}.tsv', delimiter=\"\\t\")"
   ]
  },
  {
   "cell_type": "code",
   "execution_count": null,
   "metadata": {},
   "outputs": [],
   "source": [
    "runs[\"z_score\"] = (runs[\"pace\"] - runs[\"median_pace\"]) / np.exp(runs[\"log_stdev\"])"
   ]
  },
  {
   "cell_type": "code",
   "execution_count": null,
   "metadata": {},
   "outputs": [],
   "source": [
    "runs[runs.name.str.contains(names_pattern)]"
   ]
  },
  {
   "cell_type": "code",
   "execution_count": null,
   "metadata": {},
   "outputs": [],
   "source": [
    "sns.scatterplot(runs[runs.name.str.contains(names_pattern)], x=\"year\", y=\"pace\", hue=\"name\")\n",
    "plt.axhline(y=7.873, color='y', linestyle='--', zorder=-1)"
   ]
  },
  {
   "cell_type": "code",
   "execution_count": null,
   "metadata": {},
   "outputs": [],
   "source": [
    "sns.lmplot(x=\"year\", y=\"pace\", hue=\"name\",data=runs[runs.name.str.contains(names_pattern)])"
   ]
  },
  {
   "cell_type": "code",
   "execution_count": null,
   "metadata": {},
   "outputs": [],
   "source": [
    "\n",
    "estimates = pd.read_csv(f'data/running_order_with_estimates_{f\"{ve_or_ju}_fy_{year}\"}.tsv', delimiter=\"\\t\")"
   ]
  },
  {
   "cell_type": "code",
   "execution_count": null,
   "metadata": {},
   "outputs": [],
   "source": [
    "estimates = estimates[estimates.name.notna()].copy()\n",
    "estimates[\"final_pace\"] = np.exp(estimates[\"log_mean\"])\n",
    "estimates[\"final_std\"] = np.exp(estimates[\"log_std\"])\n",
    "estimates[estimates.name.str.lower().str.contains(names_pattern)]\n",
    "#estimates[estimates.name.isna()]\n"
   ]
  },
  {
   "cell_type": "code",
   "execution_count": null,
   "metadata": {},
   "outputs": [],
   "source": []
  },
  {
   "cell_type": "code",
   "execution_count": null,
   "metadata": {},
   "outputs": [],
   "source": []
  },
  {
   "cell_type": "code",
   "execution_count": null,
   "metadata": {},
   "outputs": [],
   "source": []
  }
 ],
 "metadata": {
  "language_info": {
   "name": "python"
  }
 },
 "nbformat": 4,
 "nbformat_minor": 4
}
