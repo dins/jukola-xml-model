{
 "cells": [
  {
   "cell_type": "code",
   "execution_count": null,
   "id": "88e64115",
   "metadata": {},
   "outputs": [],
   "source": [
    "import pandas as pd"
   ]
  },
  {
   "cell_type": "code",
   "execution_count": null,
   "id": "bcd4544c",
   "metadata": {},
   "outputs": [],
   "source": [
    "df = pd.read_csv('data/long_runs_and_running_order_ve_fy_2023.tsv', sep='\\t')\n",
    "df = df.sort_values([\"unique_name\", \"year\", \"leg\", \"team_id\"])\n",
    "df"
   ]
  },
  {
   "cell_type": "code",
   "execution_count": null,
   "id": "0a19a2b7-195d-4012-b737-2376ae83bae1",
   "metadata": {},
   "outputs": [],
   "source": [
    "non_letter_rows = df[df['name'].str.contains('[^a-zA-Z- åäöüÄÖÜßéé\\\\.´\\'øõžiūėáñtī]', regex=True)]\n",
    "non_letter_rows.head(50)"
   ]
  },
  {
   "cell_type": "code",
   "execution_count": null,
   "id": "50bfde4c-fed8-40fa-8f19-abc86f2256c4",
   "metadata": {},
   "outputs": [],
   "source": [
    "df[['year', 'num_runs', 'log_stdev']].describe()"
   ]
  },
  {
   "cell_type": "code",
   "execution_count": null,
   "id": "54baf278-d389-40dd-939d-4474b977c8e4",
   "metadata": {},
   "outputs": [],
   "source": [
    "df.info()"
   ]
  },
  {
   "cell_type": "code",
   "execution_count": null,
   "id": "712decdc-2d3d-4949-8ea0-e0bc402ab1fc",
   "metadata": {},
   "outputs": [],
   "source": [
    "df[(df['num_runs'] > 1) & (df['median_log_pace'].isna()) ]"
   ]
  },
  {
   "cell_type": "code",
   "execution_count": null,
   "id": "97386228-9b71-4d2a-be68-7897284c1f70",
   "metadata": {},
   "outputs": [],
   "source": [
    "df[['num_runs']].value_counts()"
   ]
  },
  {
   "cell_type": "code",
   "execution_count": null,
   "id": "2cfb83b9-a9a8-4401-b9e9-39898f4be349",
   "metadata": {},
   "outputs": [],
   "source": [
    "df[df['unique_name'].str.contains('[:]', regex=True)]"
   ]
  },
  {
   "cell_type": "code",
   "execution_count": null,
   "id": "dd3b359e-4f16-41f7-af53-10092f018ba5",
   "metadata": {},
   "outputs": [],
   "source": []
  }
 ],
 "metadata": {
  "language_info": {
   "name": "python"
  }
 },
 "nbformat": 4,
 "nbformat_minor": 5
}
