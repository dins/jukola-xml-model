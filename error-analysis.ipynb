{
 "cells": [
  {
   "cell_type": "code",
   "execution_count": null,
   "id": "5fd43e72-aa25-48b0-9cc2-a0c426378bb2",
   "metadata": {},
   "outputs": [],
   "source": [
    "import os\n",
    "import json\n",
    "import pandas as pd\n",
    "import numpy as np\n",
    "import seaborn as sns\n",
    "import matplotlib.pyplot as plt\n",
    "\n",
    "sns.set(rc={\"figure.figsize\":(16, 9)}) \n",
    "\n",
    "# Extract the current figsize to determine height and aspect for lmplot\n",
    "global_fig_width, global_fig_height = plt.rcParams['figure.figsize']\n",
    "global_aspect_ratio = global_fig_width / global_fig_height"
   ]
  },
  {
   "cell_type": "code",
   "execution_count": null,
   "id": "b837ff14-0299-469f-b088-d750a7bb64cf",
   "metadata": {},
   "outputs": [],
   "source": [
    "# Directory containing the JSON files\n",
    "json_folder = 'json_reports'\n",
    "\n",
    "# List to hold the data\n",
    "data = []\n",
    "\n",
    "# Iterate over all JSON files in the directory\n",
    "for filename in os.listdir(json_folder):\n",
    "    if filename.endswith('.json'):\n",
    "        filepath = os.path.join(json_folder, filename)\n",
    "        \n",
    "        # Read the JSON file\n",
    "        with open(filepath, 'r', encoding='utf-8') as file:\n",
    "            json_data = json.load(file)\n",
    "            \n",
    "            # Flatten the JSON data into a single dictionary\n",
    "            flattened_data = {key: value.get('value') for key, value in json_data.items()}\n",
    "            \n",
    "            # Add the filename to the data\n",
    "            flattened_data['filename'] = filename\n",
    "            \n",
    "            # Add the record to the data list\n",
    "            data.append(flattened_data)\n",
    "\n",
    "# Create a DataFrame from the data list\n",
    "df = pd.DataFrame(data)"
   ]
  },
  {
   "cell_type": "code",
   "execution_count": null,
   "id": "a6ef562b-01d6-4f60-abeb-18086db92b9d",
   "metadata": {},
   "outputs": [],
   "source": [
    "df"
   ]
  },
  {
   "cell_type": "code",
   "execution_count": null,
   "id": "84334008-3253-4a95-8009-37fff10efd87",
   "metadata": {},
   "outputs": [],
   "source": [
    "df.info()\n",
    "df.head(1).T"
   ]
  },
  {
   "cell_type": "code",
   "execution_count": null,
   "id": "340a7bc3-c637-4303-9193-ed584635ab49",
   "metadata": {},
   "outputs": [],
   "source": [
    "df['post_analysis_date'] = pd.to_datetime(df['post_analysis_start_time'].astype(int), unit='s')\n",
    "\n",
    "df.head(1).T\n",
    "#df['post_analysis_start_time'].astype(int)"
   ]
  },
  {
   "cell_type": "code",
   "execution_count": null,
   "id": "8d72e722-61ff-4e79-9f5f-3203e3dfdcce",
   "metadata": {},
   "outputs": [],
   "source": [
    "sns.scatterplot(data=df, x='post_analysis_date', y='average_error_of_individual_prediction_minutes', hue='race_id')"
   ]
  },
  {
   "cell_type": "code",
   "execution_count": null,
   "id": "b12f1d6a-db60-4797-aee4-f785c063723f",
   "metadata": {},
   "outputs": [],
   "source": [
    "bad_execution_timestamps = df[df['average_error_of_individual_prediction_minutes'] > 30]['execution_timestamp'].values"
   ]
  },
  {
   "cell_type": "code",
   "execution_count": null,
   "id": "508a6d9e-14bd-4dba-ac29-314074694a33",
   "metadata": {},
   "outputs": [],
   "source": [
    "bad_execution_timestamp_mask = df['execution_timestamp'].isin(bad_execution_timestamps)\n",
    "clean_df = df[~bad_execution_timestamp_mask].copy()\n",
    "#clean_df = clean_df.query('post_analysis_date > \"2023-06-18\"')\n",
    "clean_df = clean_df.query('post_analysis_date > \"2024-05-23\"')\n",
    "clean_df = clean_df.sort_values(by=['race_id', 'post_analysis_date'])\n",
    "def get_first_and_last(group):\n",
    "    return group.iloc[[0, -1]]\n",
    "\n",
    "first_last_df = clean_df.groupby('race_id', group_keys=False).apply(get_first_and_last).reset_index(drop=True)\n",
    "\n",
    "first_last_df.describe()"
   ]
  },
  {
   "cell_type": "code",
   "execution_count": null,
   "id": "364fec00-6e73-4957-a0ab-4439695b69d9",
   "metadata": {},
   "outputs": [],
   "source": [
    "sns.lineplot(data=first_last_df, x='post_analysis_date', y='average_error_of_individual_prediction_minutes', hue='race_id')"
   ]
  },
  {
   "cell_type": "code",
   "execution_count": null,
   "id": "42b1f2bb-66f5-4a1e-b735-5da806cb5d89",
   "metadata": {},
   "outputs": [],
   "source": [
    "sns.lineplot(data=first_last_df, x='post_analysis_date', y='individual_interval_prediction_is_wrong', hue='race_id')"
   ]
  },
  {
   "cell_type": "code",
   "execution_count": null,
   "id": "9485614f-38a1-467b-b921-e69cf3e6d83b",
   "metadata": {},
   "outputs": [],
   "source": [
    "sns.lineplot(data=first_last_df, x='post_analysis_date', y='relay_interval_prediction_wrong', hue='race_id')"
   ]
  },
  {
   "cell_type": "code",
   "execution_count": null,
   "id": "fcda5856-7347-4c48-b962-816bea6c643a",
   "metadata": {},
   "outputs": [],
   "source": [
    "def _diff_from_first_to_last(col):\n",
    "    result = clean_df.groupby('race_id').agg(\n",
    "        first_time=(col, 'first'), \n",
    "        last_time=(col, 'last')).reset_index()\n",
    "    \n",
    "    result['diff'] = result['last_time'] - result['first_time']\n",
    "    display(f'{col}: {result[['diff']].mean().item():.3f}')\n",
    "    display(result[['race_id', 'diff']].sort_values('diff'))\n",
    "\n",
    "\n",
    "\n"
   ]
  },
  {
   "cell_type": "code",
   "execution_count": null,
   "id": "1b10714a-8ff0-43ca-86cc-5308f6b95add",
   "metadata": {},
   "outputs": [],
   "source": [
    "_diff_from_first_to_last('average_error_of_individual_prediction_minutes')"
   ]
  },
  {
   "cell_type": "code",
   "execution_count": null,
   "id": "d799a73b-02d0-4668-88bc-0667cf0538a5",
   "metadata": {},
   "outputs": [],
   "source": [
    "_diff_from_first_to_last('individual_interval_prediction_is_wrong')\n",
    "#sns.lineplot(data=clean_df, x='post_analysis_start_time', y='individual_interval_prediction_is_wrong', hue='race_id')"
   ]
  },
  {
   "cell_type": "code",
   "execution_count": null,
   "id": "b57d99e0-0b9f-4688-843d-958abd51c352",
   "metadata": {},
   "outputs": [],
   "source": [
    "_diff_from_first_to_last('relay_interval_prediction_wrong')"
   ]
  },
  {
   "cell_type": "code",
   "execution_count": null,
   "id": "7432d8a6-8074-4596-9b65-7b9dd3fb97c2",
   "metadata": {},
   "outputs": [],
   "source": [
    "# Select columns with numeric data types\n",
    "numeric_cols = df.select_dtypes(include=[np.number]).columns.tolist()\n",
    "\n",
    "for col in numeric_cols:\n",
    "    result = clean_df.groupby('race_id').agg(\n",
    "    first_time=(col, 'first'), \n",
    "    last_time=(col, 'last')).reset_index()\n",
    "    \n",
    "    result['diff'] = result['last_time'] - result['first_time']\n",
    "    display(f'{col}: {result[['diff']].mean().item():.3f}')\n"
   ]
  },
  {
   "cell_type": "code",
   "execution_count": null,
   "id": "7525d293-75bf-428b-b6c7-836926575c7d",
   "metadata": {},
   "outputs": [],
   "source": []
  },
  {
   "cell_type": "code",
   "execution_count": null,
   "id": "3b18abae-f712-4447-b2b4-b4f7e692f183",
   "metadata": {},
   "outputs": [],
   "source": []
  },
  {
   "cell_type": "code",
   "execution_count": null,
   "id": "dde5f1bd-a3b5-4746-9cb8-0fe09851a392",
   "metadata": {},
   "outputs": [],
   "source": []
  }
 ],
 "metadata": {
  "language_info": {
   "name": "python"
  }
 },
 "nbformat": 4,
 "nbformat_minor": 5
}
