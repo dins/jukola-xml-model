{
 "cells": [
  {
   "cell_type": "code",
   "execution_count": null,
   "metadata": {},
   "outputs": [],
   "source": [
    "import pandas as pd\n",
    "import numpy as np\n",
    "import shared\n",
    "\n",
    "ve_or_ju = \"ju\"\n"
   ]
  },
  {
   "cell_type": "code",
   "execution_count": null,
   "metadata": {},
   "outputs": [],
   "source": [
    "def all_years_to_one_df(ve_or_ju):\n",
    "    all = pd.DataFrame()\n",
    "    for year in shared.years[ve_or_ju]:\n",
    "        results = pd.read_csv(f'data/results_with_dist_j{year}_{ve_or_ju}.tsv', delimiter=\"\\t\")\n",
    "        if(all.empty):\n",
    "            all = results\n",
    "        else:\n",
    "            all = all.append(results)\n",
    "\n",
    "        display(f'{year} {ve_or_ju} {all.shape}')\n",
    "    return all        "
   ]
  },
  {
   "cell_type": "code",
   "execution_count": null,
   "metadata": {},
   "outputs": [],
   "source": []
  },
  {
   "cell_type": "code",
   "execution_count": null,
   "metadata": {},
   "outputs": [],
   "source": [
    "def group_by_team(ve_or_ju):\n",
    "    all = all_years_to_one_df(ve_or_ju)\n",
    "\n",
    "    all[\"log_leg_pace\"] = np.log(all[\"leg-time\"] / (60 * all[\"leg_distance\"]))\n",
    "    #all[\"disqualified_num\"] = np.mean(all[\"disqualified\"])\n",
    "    by_team = all[[\"team-id\", \"team-name\", \"team-nro\", \"log_leg_pace\", \"disqualified\"]].dropna().groupby(['team-name']).agg([\"median\", \"mean\", \"std\", \"count\", \"sum\"])\n",
    "    #display(by_team.tail().round(2))\n",
    "    \n",
    "    flat = pd.DataFrame(by_team.to_records(), index=by_team.index)\n",
    "    flat = pd.DataFrame(by_team[\"team-id\"][\"mean\"]).reset_index()\n",
    "    flat = flat.rename(columns={\"mean\": \"team_id\"})\n",
    "    flat[\"team_num_mean\"] = by_team[\"team-nro\"][\"mean\"].values\n",
    "    flat[\"log_leg_pace_mean\"] = by_team[\"log_leg_pace\"][\"mean\"].values\n",
    "    flat[\"log_leg_pace_std\"] = by_team[\"log_leg_pace\"][\"std\"].values\n",
    "    flat[\"legs\"] = by_team[\"log_leg_pace\"][\"count\"].values\n",
    "    flat[\"disqualified_legs\"] = by_team[\"disqualified\"][\"sum\"].values\n",
    "    #display(flat.head())\n",
    "    \n",
    "    return flat"
   ]
  },
  {
   "cell_type": "code",
   "execution_count": null,
   "metadata": {},
   "outputs": [],
   "source": [
    "by_team = group_by_team(ve_or_ju)\n",
    "by_team.head().round(2)"
   ]
  },
  {
   "cell_type": "code",
   "execution_count": null,
   "metadata": {},
   "outputs": [],
   "source": [
    "by_team[by_team[\"disqualified_legs\"] > 0]"
   ]
  },
  {
   "cell_type": "code",
   "execution_count": null,
   "metadata": {},
   "outputs": [],
   "source": [
    "\n"
   ]
  },
  {
   "cell_type": "code",
   "execution_count": null,
   "metadata": {},
   "outputs": [],
   "source": []
  },
  {
   "cell_type": "code",
   "execution_count": null,
   "metadata": {},
   "outputs": [],
   "source": [
    "\n"
   ]
  },
  {
   "cell_type": "code",
   "execution_count": null,
   "metadata": {},
   "outputs": [],
   "source": []
  },
  {
   "cell_type": "code",
   "execution_count": null,
   "metadata": {},
   "outputs": [],
   "source": []
  },
  {
   "cell_type": "code",
   "execution_count": null,
   "metadata": {},
   "outputs": [],
   "source": []
  },
  {
   "cell_type": "code",
   "execution_count": null,
   "metadata": {},
   "outputs": [],
   "source": [
    "by_team[by_team[\"team-name\"] == \"Virastokeskuksen vikkelät\"]"
   ]
  },
  {
   "cell_type": "code",
   "execution_count": null,
   "metadata": {},
   "outputs": [],
   "source": [
    "# Export file used in other project (jukola-nlp)\n",
    "by_team.to_csv(f'data/team_names_{ve_or_ju}.tsv', sep=\"\\t\")"
   ]
  },
  {
   "cell_type": "code",
   "execution_count": null,
   "metadata": {},
   "outputs": [],
   "source": []
  }
 ],
 "metadata": {
  "kernelspec": {
   "display_name": "Python 3",
   "language": "python",
   "name": "python3"
  },
  "language_info": {
   "codemirror_mode": {
    "name": "ipython",
    "version": 3
   },
   "file_extension": ".py",
   "mimetype": "text/x-python",
   "name": "python",
   "nbconvert_exporter": "python",
   "pygments_lexer": "ipython3",
   "version": "3.6.9"
  }
 },
 "nbformat": 4,
 "nbformat_minor": 2
}
