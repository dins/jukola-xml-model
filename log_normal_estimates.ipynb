{
 "cells": [
  {
   "cell_type": "code",
   "execution_count": null,
   "metadata": {},
   "outputs": [],
   "source": [
    "import pandas as pd\n",
    "import numpy as np\n",
    "from scipy.stats import lognorm\n",
    "import matplotlib.pyplot as plt\n",
    "from sklearn import linear_model\n",
    "from sklearn.metrics import mean_absolute_error"
   ]
  },
  {
   "cell_type": "code",
   "execution_count": null,
   "metadata": {},
   "outputs": [],
   "source": [
    "in_file_name = 'data/grouped_paces_ju.tsv'\n",
    "df_all = pd.read_csv(in_file_name, delimiter=\"\\t\")"
   ]
  },
  {
   "cell_type": "code",
   "execution_count": null,
   "metadata": {},
   "outputs": [],
   "source": [
    "#df = df_all[np.isfinite(df_all.pace_1)]\n",
    "df = df_all"
   ]
  },
  {
   "cell_type": "code",
   "execution_count": null,
   "metadata": {},
   "outputs": [],
   "source": []
  },
  {
   "cell_type": "code",
   "execution_count": null,
   "metadata": {},
   "outputs": [],
   "source": [
    "paces = df.as_matrix([\"pace_2\", \"pace_3\", \"pace_4\", \"pace_5\", \"pace_6\"])\n",
    "logs = np.log(paces)\n",
    "means = np.nanmean(logs, axis=1)\n",
    "stdevs = np.nanstd(logs, axis=1)\n",
    "df = df.assign(log_means=pd.Series(means).values)\n",
    "df = df.assign(log_stdevs=pd.Series(stdevs).values)"
   ]
  },
  {
   "cell_type": "code",
   "execution_count": null,
   "metadata": {},
   "outputs": [],
   "source": [
    "# Estimate values for all, but only use them if not other value is available\n",
    "with_history = df[np.isfinite(df_all.pace_3)]\n",
    "x = with_history.as_matrix([\"mean_team_id\"])\n",
    "x = x.reshape(len(x), 1)\n",
    "\n",
    "log_means = with_history.log_means.values.reshape(len(with_history.log_means), 1)\n",
    "log_means_model = linear_model.LinearRegression()\n",
    "log_means_model.fit(x, log_means)\n",
    "estimated_log_means = log_means_model.predict(df.mean_team_id.values.reshape(len(df.mean_team_id), 1))\n",
    "df = df.assign(estimated_log_means=estimated_log_means)\n",
    "\n",
    "log_stdevs = with_history.log_stdevs.values.reshape(len(with_history.log_stdevs), 1)\n",
    "log_stdevs_model = linear_model.LinearRegression()\n",
    "log_stdevs_model.fit(x, log_stdevs)\n",
    "estimated_log_stdevs = log_stdevs_model.predict(df.mean_team_id.values.reshape(len(df.mean_team_id), 1))\n",
    "df = df.assign(estimated_log_stdevs=estimated_log_stdevs)\n",
    "\n"
   ]
  },
  {
   "cell_type": "code",
   "execution_count": null,
   "metadata": {},
   "outputs": [],
   "source": [
    "df"
   ]
  },
  {
   "cell_type": "code",
   "execution_count": null,
   "metadata": {},
   "outputs": [],
   "source": [
    "# s = sigma and scale = exp(mu).\n",
    "df['final_log_means'] = np.where(np.isfinite(df[\"log_means\"]) & df[\"log_means\"]>0, df[\"log_means\"], df[\"estimated_log_means\"])\n",
    "final_log_means = np.exp(df['final_log_means']) \n",
    "df['final_log_stdevs'] = np.where(np.isfinite(df[\"log_stdevs\"]) & df[\"log_stdevs\"]>0, df[\"log_stdevs\"], df[\"estimated_log_stdevs\"])\n",
    "final_log_stdevs = df['final_log_stdevs']\n",
    "\n",
    "intervals95 = lognorm.interval(0.95, s = final_log_stdevs, scale = final_log_means)\n",
    "means = lognorm.mean(s = final_log_stdevs, scale = final_log_means)\n",
    "medians = lognorm.median(s = final_log_stdevs, scale = final_log_means)"
   ]
  },
  {
   "cell_type": "code",
   "execution_count": null,
   "metadata": {},
   "outputs": [],
   "source": [
    "\n",
    "df = df.assign(interval95_start = pd.Series( intervals95[0] ).values)\n",
    "df = df.assign(interval95_end = pd.Series( intervals95[1] ).values)\n",
    "df = df.assign(p1_in_interval = pd.Series( (df.interval95_start <= df.pace_1) & (df.interval95_end >= df.pace_1) ).values)\n",
    "df = df.assign(mean_ln = pd.Series(means).values)\n",
    "df = df.assign(med_ln = pd.Series(medians).values)"
   ]
  },
  {
   "cell_type": "code",
   "execution_count": null,
   "metadata": {},
   "outputs": [],
   "source": []
  },
  {
   "cell_type": "code",
   "execution_count": null,
   "metadata": {},
   "outputs": [],
   "source": []
  },
  {
   "cell_type": "code",
   "execution_count": null,
   "metadata": {},
   "outputs": [],
   "source": [
    "def rmse(predictions, targets):\n",
    "    return np.sqrt(((predictions - targets) ** 2).mean())\n",
    "mean_err = rmse(df.mean_ln, df.pace_1)\n",
    "med_err = rmse(df.med_ln, df.pace_1)\n",
    "(mean_err, med_err)"
   ]
  },
  {
   "cell_type": "code",
   "execution_count": null,
   "metadata": {},
   "outputs": [],
   "source": [
    "np.mean(df.p1_in_interval)"
   ]
  },
  {
   "cell_type": "code",
   "execution_count": null,
   "metadata": {},
   "outputs": [],
   "source": [
    "df.to_csv('data/log_normal_estimates_ju.tsv', sep=\"\\t\")"
   ]
  },
  {
   "cell_type": "code",
   "execution_count": null,
   "metadata": {},
   "outputs": [],
   "source": [
    "runs17 = pd.read_csv('data/csv-results_j2017_ju.tsv', delimiter=\"\\t\")\n"
   ]
  },
  {
   "cell_type": "code",
   "execution_count": null,
   "metadata": {},
   "outputs": [],
   "source": [
    "def get_estimate_row(row):\n",
    "    name = row[\"competitor-name\"].lower()\n",
    "    \n",
    "    by_name = df[df['name'] == name]\n",
    "    by_name_and_colon = df[df['name'].str.contains(name +\":\", regex=False)]\n",
    "\n",
    "    runners = by_name.append(by_name_and_colon)\n",
    "    if(len(runners) == 1):\n",
    "        return runners\n",
    "    team_name = row[\"team-name\"].upper()\n",
    "    runners = runners[runners['teams'].str.contains(team_name, regex=False)]\n",
    "    if(len(runners) == 1):\n",
    "        return runners\n",
    "    print(f\"name '{name}' team_name '{team_name}'\")\n",
    "    print(f\"by_name {len(by_name)} by_name_and_colon {len(by_name_and_colon)} runners {len(runners)}\")\n",
    "    print(f\"Duplicate runner {runners}\")\n",
    "    #print(f\"TEAMS by_name_and_colon {by_name_and_colon['teams']}\")\n",
    "    return runners.sort_values(\"num_runs\", ascending = False).head(1)\n",
    "\n",
    "def get_estimate_params(row):\n",
    "    estimate_row = get_estimate_row(row)\n",
    "    #print(f\"estimate_row final_log_means {estimate_row.final_log_means} {estimate_row.final_log_stdevs}\")\n",
    "    final_log_means = estimate_row.final_log_means.values[0]\n",
    "    final_log_stdevs = estimate_row.final_log_stdevs.values[0]\n",
    "    return pd.Series({\"final_log_means\": final_log_means, \"final_log_stdevs\": final_log_stdevs})\n",
    "\n",
    "#runs17 = runs17[runs17['team-name'].str.contains(\"Reak\")]\n",
    "estimate_params = runs17.apply(lambda row: get_estimate_params(row), axis=1)\n",
    "runs17 = runs17.assign(final_log_means = estimate_params.final_log_means)\n",
    "runs17 = runs17.assign(final_log_stdevs = estimate_params.final_log_stdevs)"
   ]
  },
  {
   "cell_type": "code",
   "execution_count": null,
   "metadata": {},
   "outputs": [],
   "source": [
    "def leg_dist(leg):\n",
    "    dist = [12.7, 14.2, 12.3, 7.6, 7.9, 10.9, 13.8]\n",
    "    return dist[leg - 1]\n",
    "\n",
    "runs17 = runs17.assign(leg_dist = runs17[\"leg-nro\"].apply(lambda nro: leg_dist(nro)))\n",
    "\n",
    "final_means = np.exp(runs17.final_log_means)\n",
    "#intervals95 = lognorm.interval(0.95, s = runs17.final_log_stdevs, scale = final_means)\n",
    "\n",
    "#runs17 = runs17.assign(start95 = intervals95[0] * runs17[\"leg_dist\"])\n",
    "#runs17 = runs17.assign(end95 = intervals95[1] * runs17[\"leg_dist\"])\n",
    "\n",
    "runs17[\"est_median\"] = lognorm.median(s = runs17.final_log_stdevs, scale = final_means) * runs17[\"leg_dist\"]\n"
   ]
  },
  {
   "cell_type": "code",
   "execution_count": null,
   "metadata": {},
   "outputs": [],
   "source": [
    "runs17"
   ]
  },
  {
   "cell_type": "code",
   "execution_count": null,
   "metadata": {},
   "outputs": [],
   "source": []
  },
  {
   "cell_type": "code",
   "execution_count": null,
   "metadata": {},
   "outputs": [],
   "source": [
    "by_teams = runs17.set_index([\"team-id\", \"leg-nro\"]).unstack()\n",
    "by_teams.head()"
   ]
  },
  {
   "cell_type": "code",
   "execution_count": null,
   "metadata": {},
   "outputs": [],
   "source": []
  },
  {
   "cell_type": "code",
   "execution_count": null,
   "metadata": {},
   "outputs": [],
   "source": [
    "for i in range(1,8):\n",
    "    by_teams[\"fin_real\", i] = np.sum([ by_teams[\"leg-time\"][j] / 60 for j in range(1,i+1) ], axis=0)\n",
    "by_teams.fin_real.head()"
   ]
  },
  {
   "cell_type": "code",
   "execution_count": null,
   "metadata": {},
   "outputs": [],
   "source": []
  },
  {
   "cell_type": "code",
   "execution_count": null,
   "metadata": {},
   "outputs": [],
   "source": [
    "for i in range(1,8):\n",
    "    by_teams[\"fin_med\", i] = np.sum([ by_teams[\"est_median\"][j] for j in range(1,i+1) ], axis=0)\n",
    "by_teams.fin_med.head()"
   ]
  },
  {
   "cell_type": "code",
   "execution_count": null,
   "metadata": {},
   "outputs": [],
   "source": []
  },
  {
   "cell_type": "code",
   "execution_count": null,
   "metadata": {},
   "outputs": [],
   "source": []
  },
  {
   "cell_type": "code",
   "execution_count": null,
   "metadata": {},
   "outputs": [],
   "source": []
  },
  {
   "cell_type": "code",
   "execution_count": null,
   "metadata": {},
   "outputs": [],
   "source": [
    "\n",
    "def get_simulated_medians(row):\n",
    "    samples = pd.DataFrame()\n",
    "    for i in range(1,8):\n",
    "        samples[i] = row[\"leg_dist\"][i] * lognorm.rvs(s = row[\"final_log_stdevs\"][i], scale = np.exp(row[\"final_log_means\"][i]), size = 10000)\n",
    "\n",
    "    samples_sums = pd.DataFrame()\n",
    "    for i in range(1,8):\n",
    "        samples_sums[i] = np.sum([ samples[j] for j in range(1,i+1) ], axis=0)\n",
    "\n",
    "    start95 = samples_sums.quantile(0.025)\n",
    "    end95 = samples_sums.quantile(0.975)\n",
    "    medians = samples_sums.median()\n",
    "    means = samples_sums.mean()\n",
    "    \n",
    "    \"\"\"\n",
    "    for i in range(1,8):\n",
    "        bins = int(samples_sums[i].max() - samples_sums[i].min())\n",
    "        name = row[\"competitor-name\"][i]\n",
    "        plt.title(f\"{name} bins = {bins}\")\n",
    "        plt.hist(samples_sums[i], bins=bins)\n",
    "        plt.axvline(x=row[\"fin_real\"][i], color=\"r\")        \n",
    "        plt.axvline(x=medians[i], color=\"g\")\n",
    "        plt.axvline(x=means[i], color=\"yellow\")\n",
    "        plt.show()\n",
    "    \"\"\"\n",
    "    \n",
    "    \"\"\"\n",
    "    bins = int( (samples_sums.max().max() - samples_sums.min().min()) / 5) \n",
    "    plt.figure(figsize=(20, 6))\n",
    "    plt.title(f\"Whole team, bins = {bins}\")\n",
    "    plt.hist([samples_sums[1], samples_sums[2], samples_sums[3], samples_sums[4], samples_sums[5], samples_sums[6], samples_sums[7]], bins=bins)\n",
    "    for i in range(1,8):\n",
    "        plt.axvline(x=row[\"fin_real\"][i], color=\"r\")\n",
    "        plt.axvline(x=medians[i], color=\"g\")\n",
    "\n",
    "    plt.show()\n",
    "    \"\"\"\n",
    "    \n",
    "    fin_start95_dict = {f\"fin_start95_{leg}\" : start95.values[leg-1] for leg in range(1,8)}\n",
    "    fin_end95_dict = {f\"fin_end95_{leg}\" : end95.values[leg-1] for leg in range(1,8)}\n",
    "    fin_median_dict = {f\"fin_median_{leg}\" : medians.values[leg-1] for leg in range(1,8)}\n",
    "    fin_mean_dict = {f\"fin_mean_{leg}\" : means.values[leg-1] for leg in range(1,8)}\n",
    "    new_cols = {**fin_start95_dict, **fin_end95_dict, **fin_median_dict, **fin_mean_dict}\n",
    "\n",
    "    #print(start95.values)\n",
    "    #print(new_cols)\n",
    "    return pd.Series(new_cols)\n",
    "\n",
    "simulated = by_teams.apply(get_simulated_medians, axis=1)\n",
    "\n",
    "\n",
    "simulated.head()"
   ]
  },
  {
   "cell_type": "code",
   "execution_count": null,
   "metadata": {},
   "outputs": [],
   "source": []
  },
  {
   "cell_type": "code",
   "execution_count": null,
   "metadata": {},
   "outputs": [],
   "source": [
    "by_teams_2 = by_teams.copy()\n",
    "by_teams_2.columns = [f'{x[0]}_{x[1]}' for x in by_teams_2.columns]\n",
    "by_teams_2.reset_index()\n",
    "by_teams_2.head()"
   ]
  },
  {
   "cell_type": "code",
   "execution_count": null,
   "metadata": {},
   "outputs": [],
   "source": [
    "result = pd.concat([by_teams_2, simulated], axis=1, join='inner')\n",
    "result.head()"
   ]
  },
  {
   "cell_type": "code",
   "execution_count": null,
   "metadata": {},
   "outputs": [],
   "source": [
    "start_timestamp = pd.Timestamp(year = 2017, month = 6, day = 17, hour = 23)\n",
    "result[\"fint_real_1\"] = pd.to_datetime(result[\"fin_real_1\"] * 60, unit = \"s\", origin= start_timestamp)\n",
    "\n",
    "for leg in range(1,8):\n",
    "    result[f\"fint_real_{leg}\"] = pd.to_datetime(result[f\"fin_real_{leg}\"] * 60, unit = \"s\", origin= start_timestamp)\n",
    "    result[f\"fint_median_{leg}\"] = pd.to_datetime(result[f\"fin_median_{leg}\"] * 60, unit = \"s\", origin= start_timestamp)\n",
    "    result[f\"fint_start95_{leg}\"] = pd.to_datetime(result[f\"fin_start95_{leg}\"] * 60, unit = \"s\", origin= start_timestamp)\n",
    "    result[f\"fint_end95_{leg}\"] = pd.to_datetime(result[f\"fin_end95_{leg}\"] * 60, unit = \"s\", origin= start_timestamp)\n",
    "\n",
    "result[\"fint_end95_2\"]  \n",
    "    "
   ]
  },
  {
   "cell_type": "code",
   "execution_count": null,
   "metadata": {},
   "outputs": [],
   "source": [
    "result.to_csv('data/team_estimates_ju2017.tsv', sep=\"\\t\")"
   ]
  },
  {
   "cell_type": "code",
   "execution_count": null,
   "metadata": {},
   "outputs": [],
   "source": [
    "[ (rmse(result[f\"fin_mean_{leg}\"], result[f\"fin_real_{leg}\"]), rmse(result[f\"fin_median_{leg}\"], result[f\"fin_real_{leg}\"])) for leg in range(1,8)]"
   ]
  },
  {
   "cell_type": "code",
   "execution_count": null,
   "metadata": {},
   "outputs": [],
   "source": []
  },
  {
   "cell_type": "code",
   "execution_count": null,
   "metadata": {},
   "outputs": [],
   "source": []
  },
  {
   "cell_type": "code",
   "execution_count": null,
   "metadata": {},
   "outputs": [],
   "source": [
    "result[\"fin_real_7\"].head()"
   ]
  },
  {
   "cell_type": "code",
   "execution_count": null,
   "metadata": {},
   "outputs": [],
   "source": [
    "qualified = result[np.isfinite(result.fin_real_7)]"
   ]
  },
  {
   "cell_type": "code",
   "execution_count": null,
   "metadata": {},
   "outputs": [],
   "source": [
    "[ (rmse(qualified[f\"fin_mean_{leg}\"], qualified[f\"fin_real_{leg}\"]), rmse(qualified[f\"fin_median_{leg}\"], qualified[f\"fin_real_{leg}\"])) for leg in range(1,8)]"
   ]
  },
  {
   "cell_type": "code",
   "execution_count": null,
   "metadata": {},
   "outputs": [],
   "source": [
    "[ (mean_absolute_error(qualified[f\"fin_real_{leg}\"], qualified[f\"fin_mean_{leg}\"]), mean_absolute_error(qualified[f\"fin_real_{leg}\"], qualified[f\"fin_median_{leg}\"])) for leg in range(1,8)]"
   ]
  },
  {
   "cell_type": "code",
   "execution_count": null,
   "metadata": {},
   "outputs": [],
   "source": [
    "np.mean((result[\"fin_start95_1\"] < result[\"fin_real_1\"]) & (result[\"fin_end95_1\"] > result[\"fin_real_1\"]) )"
   ]
  },
  {
   "cell_type": "code",
   "execution_count": null,
   "metadata": {},
   "outputs": [],
   "source": [
    "np.mean((qualified[\"fin_start95_1\"] < qualified[\"fin_real_1\"]) & (qualified[\"fin_end95_1\"] > qualified[\"fin_real_1\"]) )"
   ]
  },
  {
   "cell_type": "code",
   "execution_count": null,
   "metadata": {},
   "outputs": [],
   "source": []
  },
  {
   "cell_type": "code",
   "execution_count": null,
   "metadata": {},
   "outputs": [],
   "source": []
  },
  {
   "cell_type": "markdown",
   "metadata": {},
   "source": [
    "### "
   ]
  }
 ],
 "metadata": {
  "kernelspec": {
   "display_name": "Python 3",
   "language": "python",
   "name": "python3"
  },
  "language_info": {
   "codemirror_mode": {
    "name": "ipython",
    "version": 3
   },
   "file_extension": ".py",
   "mimetype": "text/x-python",
   "name": "python",
   "nbconvert_exporter": "python",
   "pygments_lexer": "ipython3",
   "version": "3.6.5"
  }
 },
 "nbformat": 4,
 "nbformat_minor": 2
}
