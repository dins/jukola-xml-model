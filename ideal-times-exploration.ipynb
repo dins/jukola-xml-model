{
 "cells": [
  {
   "cell_type": "code",
   "execution_count": null,
   "id": "6044d54c",
   "metadata": {},
   "outputs": [],
   "source": [
    "import pandas as pd\n",
    "import numpy as np\n",
    "import logging\n",
    "import shared\n",
    "import os\n",
    "\n",
    "os.environ['RACE_TYPE'] = \"ju\"\n",
    "race_type = shared.race_type()\n",
    "#year = shared.forecast_year()\n",
    "import time\n",
    "startTime = time.time()"
   ]
  },
  {
   "cell_type": "code",
   "execution_count": null,
   "id": "a82e32a1",
   "metadata": {},
   "outputs": [],
   "source": [
    "cleaned = pd.read_csv(f'Jukola-terrain/ideal-paces-{race_type}.tsv', delimiter='\\t')"
   ]
  },
  {
   "cell_type": "code",
   "execution_count": null,
   "id": "89443548",
   "metadata": {},
   "outputs": [],
   "source": [
    "cleaned.sort_values(by=[\"year\", \"leg\"], ascending=[False, True]).head(10)"
   ]
  },
  {
   "cell_type": "code",
   "execution_count": null,
   "id": "5288492b",
   "metadata": {},
   "outputs": [],
   "source": [
    "import seaborn as sns\n",
    "import matplotlib.pyplot as plt\n",
    "#sns.set(rc={\"figure.figsize\":(16, 9)}) \n",
    "plot = sns.scatterplot(x=\"leg_distance\", y=\"ideal_pace\", hue=\"year\", palette=\"bright\", data=cleaned)\n",
    "\n"
   ]
  },
  {
   "cell_type": "code",
   "execution_count": null,
   "id": "18ad004e",
   "metadata": {},
   "outputs": [],
   "source": [
    "\n",
    "ax = sns.boxplot(x=\"year\", y=\"ideal_pace\", data=cleaned)"
   ]
  },
  {
   "cell_type": "code",
   "execution_count": null,
   "id": "2979ed7b",
   "metadata": {},
   "outputs": [],
   "source": [
    "\n",
    "ax = sns.boxplot(x=\"leg\", y=\"ideal_pace\", data=cleaned)"
   ]
  },
  {
   "cell_type": "code",
   "execution_count": null,
   "id": "419b3dae",
   "metadata": {},
   "outputs": [],
   "source": [
    "ax = sns.boxplot(x=\"year\", y=\"marking\", data=cleaned)"
   ]
  },
  {
   "cell_type": "code",
   "execution_count": null,
   "id": "1d8896ec",
   "metadata": {},
   "outputs": [],
   "source": [
    "ax = sns.boxplot(x=\"year\", y=\"vertical_per_km\", data=cleaned[cleaned[\"year\"] >= 2015])"
   ]
  },
  {
   "cell_type": "code",
   "execution_count": null,
   "id": "426ff578",
   "metadata": {},
   "outputs": [],
   "source": [
    "plot = sns.scatterplot(x=\"vertical_per_km\", y=\"ideal_pace\", hue=\"year\", palette=\"bright\", data=cleaned[cleaned[\"year\"] >= 2015])\n"
   ]
  },
  {
   "cell_type": "code",
   "execution_count": null,
   "id": "3f9b47f5",
   "metadata": {},
   "outputs": [],
   "source": [
    "cleaned"
   ]
  },
  {
   "cell_type": "code",
   "execution_count": null,
   "id": "6d2d1d75",
   "metadata": {},
   "outputs": [],
   "source": [
    "leg_means = cleaned[[\"leg\", \"ideal_pace\"]].groupby([\"leg\"]).agg(\"mean\")\n",
    "leg_means"
   ]
  },
  {
   "cell_type": "code",
   "execution_count": null,
   "id": "2fc8cf6b",
   "metadata": {},
   "outputs": [],
   "source": []
  },
  {
   "cell_type": "code",
   "execution_count": null,
   "id": "4cf1c7a6",
   "metadata": {},
   "outputs": [],
   "source": [
    "ax = sns.scatterplot(x=\"year\", y=\"terrain_coefficient\", hue=\"leg\", data=cleaned)"
   ]
  },
  {
   "cell_type": "code",
   "execution_count": null,
   "id": "be1e0dc2",
   "metadata": {},
   "outputs": [],
   "source": [
    "ax = sns.scatterplot(x=\"leg\", y=\"terrain_coefficient\", hue=\"year\", data=cleaned)"
   ]
  },
  {
   "cell_type": "code",
   "execution_count": null,
   "id": "29dde177",
   "metadata": {},
   "outputs": [],
   "source": [
    "# TODO get all runs post race\n",
    "runs = pd.read_csv(f'data/runs_{shared.race_id_str()}.tsv', delimiter='\\t')\n",
    "runs = runs.query(\"num_runs > 1\")"
   ]
  },
  {
   "cell_type": "code",
   "execution_count": null,
   "id": "f880b829",
   "metadata": {},
   "outputs": [],
   "source": [
    "runner_means = runs[[\"name\", \"pace\"]].groupby([\"name\"]).agg(\"mean\")\n",
    "runner_means\n"
   ]
  },
  {
   "cell_type": "code",
   "execution_count": null,
   "id": "7300a30c",
   "metadata": {},
   "outputs": [],
   "source": [
    "runs[\"pace_mean\"] = runner_means[\"pace\"][runs[\"name\"]].values\n",
    "runs[\"personal_coefficient\"] = runs[\"pace\"] / runs[\"pace_mean\"]\n",
    "\n",
    "runs.head()"
   ]
  },
  {
   "cell_type": "code",
   "execution_count": null,
   "id": "09e79fb0",
   "metadata": {},
   "outputs": [],
   "source": []
  },
  {
   "cell_type": "code",
   "execution_count": null,
   "id": "56cff564",
   "metadata": {},
   "outputs": [],
   "source": []
  },
  {
   "cell_type": "code",
   "execution_count": null,
   "id": "187f02d4",
   "metadata": {},
   "outputs": [],
   "source": [
    "runs = pd.merge(runs, cleaned[[\"year\", \"leg\", \"terrain_coefficient\", \"marking\", \"vertical\", \"vertical_per_km\"]], how=\"left\", on=[\"year\", \"leg\"])\n",
    "runs[\"personal_terain_diff\"] = runs[\"personal_coefficient\"] - runs[\"terrain_coefficient\"] \n",
    "runs.round(4)"
   ]
  },
  {
   "cell_type": "code",
   "execution_count": null,
   "id": "c2d846f9",
   "metadata": {},
   "outputs": [],
   "source": [
    "ax = sns.lmplot(x=\"terrain_coefficient\", y=\"personal_coefficient\", data=runs, height=8, aspect=1.7, ci=50,scatter_kws={'alpha':0.07}, x_jitter=0.0004)\n",
    "ax.set(ylim=(0.6, 1.6))"
   ]
  },
  {
   "cell_type": "code",
   "execution_count": null,
   "id": "e04d128c",
   "metadata": {},
   "outputs": [],
   "source": [
    "ax = sns.residplot(x=\"terrain_coefficient\", y=\"personal_coefficient\", lowess=True, data=runs,scatter_kws={'alpha':0.07})"
   ]
  },
  {
   "cell_type": "code",
   "execution_count": null,
   "id": "57d42ccc",
   "metadata": {},
   "outputs": [],
   "source": [
    "ax = sns.lmplot(x=\"terrain_coefficient\", y=\"personal_coefficient\", hue=\"leg\",data=runs, height=8, aspect=1.7, ci=50,scatter_kws={'alpha':0.07}, x_jitter=0.0003)\n",
    "ax.set(ylim=(0.6, 1.6))"
   ]
  },
  {
   "cell_type": "code",
   "execution_count": null,
   "id": "2024631f",
   "metadata": {},
   "outputs": [],
   "source": [
    "ax = sns.lmplot(x=\"terrain_coefficient\", y=\"personal_coefficient\", hue=\"year\",data=runs, height=8, aspect=1.7, ci=50,scatter_kws={'alpha':0.07}, x_jitter=0.0003)\n",
    "ax.set(ylim=(0.6, 1.6))"
   ]
  },
  {
   "cell_type": "code",
   "execution_count": null,
   "id": "71c4ef9e",
   "metadata": {},
   "outputs": [],
   "source": [
    "ax = sns.lmplot(x=\"marking\", y=\"personal_coefficient\", data=runs, height=8, aspect=1.7, ci=50,scatter_kws={'alpha':0.07}, x_jitter=3)\n",
    "ax.set(ylim=(0.6, 1.6))"
   ]
  },
  {
   "cell_type": "code",
   "execution_count": null,
   "id": "fc1b9678",
   "metadata": {},
   "outputs": [],
   "source": [
    "ax = sns.lmplot(x=\"vertical\", y=\"personal_coefficient\", data=runs, height=8, aspect=1.7, ci=50,scatter_kws={'alpha':0.07}, x_jitter=1)\n",
    "ax.set(ylim=(0.6, 1.6))"
   ]
  },
  {
   "cell_type": "code",
   "execution_count": null,
   "id": "842420bc",
   "metadata": {},
   "outputs": [],
   "source": [
    "ax = sns.lmplot(x=\"vertical_per_km\", y=\"personal_coefficient\", data=runs, height=8, aspect=1.7, ci=50,scatter_kws={'alpha':0.07}, x_jitter=0.1)\n",
    "ax.set(ylim=(0.6, 1.6))"
   ]
  },
  {
   "cell_type": "code",
   "execution_count": null,
   "id": "16c623e6",
   "metadata": {},
   "outputs": [],
   "source": [
    "ax = sns.boxplot(x=\"year\", y=\"personal_terain_diff\", data=runs.query(\"personal_terain_diff < 0.4 & personal_terain_diff > -0.3 & num_runs < 10\"))\n"
   ]
  },
  {
   "cell_type": "code",
   "execution_count": null,
   "id": "5fc51f91",
   "metadata": {},
   "outputs": [],
   "source": [
    "ax = sns.lmplot(x=\"terrain_coefficient\", y=\"personal_coefficient\",row=\"leg\", data=runs)"
   ]
  },
  {
   "cell_type": "code",
   "execution_count": null,
   "id": "3ecde6b7",
   "metadata": {},
   "outputs": [],
   "source": [
    "ax = sns.lmplot(x=\"terrain_coefficient\", y=\"personal_coefficient\",row=\"year\", data=runs)"
   ]
  },
  {
   "cell_type": "code",
   "execution_count": null,
   "id": "5009abff",
   "metadata": {},
   "outputs": [],
   "source": [
    "#\n",
    "runs[\"log_team_id\"]= np.log(runs[\"team_id\"])\n",
    "ax = sns.lmplot(x=\"log_team_id\", y=\"personal_coefficient\", data=runs)"
   ]
  },
  {
   "cell_type": "code",
   "execution_count": null,
   "id": "7653a4d0",
   "metadata": {},
   "outputs": [],
   "source": [
    "runner_name = \"nelly carlsson\"\n",
    "if race_type == \"ju\":\n",
    "    runner_name = \"topi anjala\"\n",
    "    runner_name = \"juha meronen\"\n",
    "    \n",
    "runner = runs[runs[\"name\"] == runner_name]\n",
    "ax = sns.lmplot(x=\"terrain_coefficient\", y=\"personal_coefficient\",data=runner)"
   ]
  },
  {
   "cell_type": "code",
   "execution_count": null,
   "id": "a4faad30",
   "metadata": {},
   "outputs": [],
   "source": [
    "runner.round(3)"
   ]
  },
  {
   "cell_type": "code",
   "execution_count": null,
   "id": "e855d897",
   "metadata": {},
   "outputs": [],
   "source": [
    "runner[\"terrain_coefficient\"].values"
   ]
  },
  {
   "cell_type": "markdown",
   "id": "39a35649",
   "metadata": {},
   "source": []
  },
  {
   "cell_type": "code",
   "execution_count": null,
   "id": "9a8921af",
   "metadata": {},
   "outputs": [],
   "source": [
    "def percentile(n):\n",
    "    def percentile_(x):\n",
    "        return np.percentile(x, n)\n",
    "    percentile_.__name__ = 'p_%s' % n\n",
    "    return percentile_\n"
   ]
  },
  {
   "cell_type": "code",
   "execution_count": null,
   "id": "1896a2c0",
   "metadata": {},
   "outputs": [],
   "source": []
  }
 ],
 "metadata": {
  "language_info": {
   "name": "python"
  }
 },
 "nbformat": 4,
 "nbformat_minor": 5
}
