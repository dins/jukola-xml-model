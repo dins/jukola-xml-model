{
 "cells": [
  {
   "cell_type": "code",
   "execution_count": null,
   "id": "6044d54c",
   "metadata": {},
   "outputs": [],
   "source": [
    "import pandas as pd\n",
    "import numpy as np\n",
    "import logging\n",
    "import shared\n",
    "\n",
    "race_type = shared.race_type()\n",
    "year = shared.forecast_year()\n",
    "import time\n",
    "startTime = time.time()"
   ]
  },
  {
   "cell_type": "code",
   "execution_count": null,
   "id": "a82e32a1",
   "metadata": {},
   "outputs": [],
   "source": [
    "cleaned = pd.read_csv(f'Jukola-terrain/ideal-paces-{race_type}.tsv', delimiter='\\t')"
   ]
  },
  {
   "cell_type": "code",
   "execution_count": null,
   "id": "5288492b",
   "metadata": {},
   "outputs": [],
   "source": [
    "import seaborn as sns\n",
    "import matplotlib.pyplot as plt\n",
    "sns.set(rc={\"figure.figsize\":(16, 9)}) \n",
    "plot = sns.scatterplot(x=\"leg_distance\", y=\"ideal_pace\", hue=\"leg\", data=cleaned)\n",
    "\n"
   ]
  },
  {
   "cell_type": "code",
   "execution_count": null,
   "id": "6ed96e60",
   "metadata": {},
   "outputs": [],
   "source": [
    "\n",
    "ax = sns.boxplot(x=\"year\", y=\"ideal_pace\", data=cleaned)"
   ]
  },
  {
   "cell_type": "code",
   "execution_count": null,
   "id": "283c49c2",
   "metadata": {},
   "outputs": [],
   "source": [
    "\n",
    "ax = sns.boxplot(x=\"leg\", y=\"ideal_pace\", data=cleaned)"
   ]
  },
  {
   "cell_type": "code",
   "execution_count": null,
   "id": "29dde177",
   "metadata": {},
   "outputs": [],
   "source": [
    "runs = pd.read_csv(f'data/runs_{shared.race_id_str()}.tsv', delimiter='\\t')\n",
    "runs"
   ]
  },
  {
   "cell_type": "code",
   "execution_count": null,
   "id": "9a8921af",
   "metadata": {},
   "outputs": [],
   "source": [
    "def percentile(n):\n",
    "    def percentile_(x):\n",
    "        return np.percentile(x, n)\n",
    "    percentile_.__name__ = 'p_%s' % n\n",
    "    return percentile_\n",
    "runs[\"leg\"] = runs[\"leg_nro\"]  \n",
    "leg_stats = runs[['year', \"leg\", \"pace\"]].groupby(['year', \"leg\"]).agg(\n",
    "        [\"min\",percentile(1) ,percentile(5) ,\"median\", \"mean\", \"std\", \"count\"])"
   ]
  },
  {
   "cell_type": "code",
   "execution_count": null,
   "id": "52ed7f0f",
   "metadata": {},
   "outputs": [],
   "source": [
    "leg_stats = leg_stats.reset_index()\n",
    "leg_stats.columns = [f\"{pair[0]}{pair[1]}\" for pair in leg_stats.columns] \n",
    "leg_stats"
   ]
  },
  {
   "cell_type": "code",
   "execution_count": null,
   "id": "57160e17",
   "metadata": {},
   "outputs": [],
   "source": [
    "with_runs = pd.merge(cleaned, leg_stats, how=\"left\", on=[\"year\", \"leg\"])\n",
    "with_runs"
   ]
  },
  {
   "cell_type": "code",
   "execution_count": null,
   "id": "6d8dba3e",
   "metadata": {},
   "outputs": [],
   "source": [
    "with_ideal = pd.merge(runs, cleaned, how=\"left\", left_on=[\"year\", \"leg_nro\"], right_on=[\"year\", \"leg\"])\n",
    "with_ideal[\"ideal_ratio\"] = with_ideal[\"pace\"] / with_ideal[\"ideal_pace\"]\n",
    "with_ideal"
   ]
  },
  {
   "cell_type": "code",
   "execution_count": null,
   "id": "47e0dd26",
   "metadata": {},
   "outputs": [],
   "source": [
    "with_ideal = with_ideal"
   ]
  },
  {
   "cell_type": "code",
   "execution_count": null,
   "id": "327a34c0",
   "metadata": {},
   "outputs": [],
   "source": [
    "\n",
    "plot = sns.scatterplot(x=\"team_id\", y=\"ideal_ratio\", hue=\"year\", data=with_ideal)"
   ]
  },
  {
   "cell_type": "code",
   "execution_count": null,
   "id": "7357287d",
   "metadata": {},
   "outputs": [],
   "source": [
    "g = sns.FacetGrid(with_ideal, col=\"leg_nro\", row=\"year\")\n",
    "g.map(sns.histplot, \"ideal_ratio\", alpha=.7)\n",
    "g.add_legend()\n",
    "g.set(xlim=(0, 5), ylim=(0, 180))"
   ]
  },
  {
   "cell_type": "code",
   "execution_count": null,
   "id": "66acfffe",
   "metadata": {},
   "outputs": [],
   "source": [
    "def revquantile(n):\n",
    "    def revquantile(x):\n",
    "        lower = x <= n\n",
    "        return np.sum(lower)/len(x)\n",
    "    revquantile.__name__ = 'revq_%s' % n\n",
    "    return revquantile\n",
    "\n",
    "\n",
    "ratio_stats = with_ideal[['year', \"leg_nro\", \"ideal_ratio\", \"ideal_pace\", \"pace\"]].groupby(['year', \"leg_nro\"]).agg(\n",
    "        [\"min\",percentile(0.5),percentile(1), percentile(2),percentile(10), \"median\", percentile(80),revquantile(1) ,revquantile(2) ,revquantile(3) , \"mean\", \"std\", \"count\"])\n",
    "ratio_stats.round(3)"
   ]
  },
  {
   "cell_type": "code",
   "execution_count": null,
   "id": "94ec2b2d",
   "metadata": {},
   "outputs": [],
   "source": [
    "ratio_stats_flat = ratio_stats.reset_index()\n",
    "ratio_stats_flat.columns = [f\"{pair[0]}_{pair[1]}\" for pair in ratio_stats_flat.columns] \n",
    "ratio_stats_flat.head()"
   ]
  },
  {
   "cell_type": "code",
   "execution_count": null,
   "id": "dadf1a4c",
   "metadata": {},
   "outputs": [],
   "source": [
    "ax = sns.lmplot(x=\"ideal_ratio_p_1\", y=\"ideal_ratio_median\", robust=True, data=ratio_stats_flat, height=7, aspect=1.5)"
   ]
  },
  {
   "cell_type": "code",
   "execution_count": null,
   "id": "d7808156",
   "metadata": {},
   "outputs": [],
   "source": [
    "ax = sns.regplot(x=\"ideal_ratio_p_0.5\", y=\"ideal_ratio_median\", data=ratio_stats_flat)"
   ]
  },
  {
   "cell_type": "code",
   "execution_count": null,
   "id": "2269a8fb",
   "metadata": {},
   "outputs": [],
   "source": [
    "ax = sns.regplot(x=\"ideal_ratio_p_10\", y=\"ideal_ratio_p_80\", data=ratio_stats_flat)"
   ]
  },
  {
   "cell_type": "code",
   "execution_count": null,
   "id": "aa398e14",
   "metadata": {},
   "outputs": [],
   "source": [
    "ax = sns.regplot(x=\"ideal_ratio_p_0.5\", y=\"ideal_ratio_p_10\", data=ratio_stats_flat)"
   ]
  },
  {
   "cell_type": "code",
   "execution_count": null,
   "id": "f3a26cb4",
   "metadata": {},
   "outputs": [],
   "source": [
    "ax = sns.lmplot(x=\"ideal_pace_mean\", y=\"pace_p_1\", hue=\"leg_nro_\", data=ratio_stats_flat, height=10, aspect=1.5)"
   ]
  },
  {
   "cell_type": "code",
   "execution_count": null,
   "id": "59d6074d",
   "metadata": {},
   "outputs": [],
   "source": [
    "ax = sns.boxplot(x=\"year_\", y=\"ideal_ratio_p_1\", data=ratio_stats_flat)"
   ]
  },
  {
   "cell_type": "code",
   "execution_count": null,
   "id": "7e86ad92",
   "metadata": {},
   "outputs": [],
   "source": [
    "ax = sns.boxplot(x=\"leg_nro_\", y=\"ideal_ratio_p_1\", data=ratio_stats_flat)"
   ]
  },
  {
   "cell_type": "code",
   "execution_count": null,
   "id": "1e48e101",
   "metadata": {},
   "outputs": [],
   "source": []
  }
 ],
 "metadata": {
  "kernelspec": {
   "display_name": "Python 3",
   "language": "python",
   "name": "python3"
  },
  "language_info": {
   "codemirror_mode": {
    "name": "ipython",
    "version": 3
   },
   "file_extension": ".py",
   "mimetype": "text/x-python",
   "name": "python",
   "nbconvert_exporter": "python",
   "pygments_lexer": "ipython3",
   "version": "3.6.9"
  }
 },
 "nbformat": 4,
 "nbformat_minor": 5
}
