{
 "cells": [
  {
   "cell_type": "code",
   "execution_count": null,
   "id": "6044d54c",
   "metadata": {},
   "outputs": [],
   "source": [
    "import pandas as pd\n",
    "import numpy as np\n",
    "import logging\n",
    "import shared\n",
    "\n",
    "race_type = shared.race_type()\n",
    "year = shared.forecast_year()\n",
    "import time\n",
    "startTime = time.time()"
   ]
  },
  {
   "cell_type": "code",
   "execution_count": null,
   "id": "a82e32a1",
   "metadata": {},
   "outputs": [],
   "source": [
    "cleaned = pd.read_csv(f'Jukola-terrain/ideal-paces-{race_type}.tsv', delimiter='\\t')"
   ]
  },
  {
   "cell_type": "code",
   "execution_count": null,
   "id": "89443548",
   "metadata": {},
   "outputs": [],
   "source": [
    "cleaned.sort_values(by=[\"year\", \"leg\"], ascending=[False, True]).head(10)"
   ]
  },
  {
   "cell_type": "code",
   "execution_count": null,
   "id": "5288492b",
   "metadata": {},
   "outputs": [],
   "source": [
    "import seaborn as sns\n",
    "import matplotlib.pyplot as plt\n",
    "sns.set(rc={\"figure.figsize\":(16, 9)}) \n",
    "plot = sns.scatterplot(x=\"leg_distance\", y=\"ideal_pace\", hue=\"year\", palette=\"bright\", data=cleaned)\n",
    "\n"
   ]
  },
  {
   "cell_type": "code",
   "execution_count": null,
   "id": "18ad004e",
   "metadata": {},
   "outputs": [],
   "source": [
    "\n",
    "ax = sns.boxplot(x=\"year\", y=\"ideal_pace\", data=cleaned)"
   ]
  },
  {
   "cell_type": "code",
   "execution_count": null,
   "id": "2979ed7b",
   "metadata": {},
   "outputs": [],
   "source": [
    "\n",
    "ax = sns.boxplot(x=\"leg\", y=\"ideal_pace\", data=cleaned)"
   ]
  },
  {
   "cell_type": "code",
   "execution_count": null,
   "id": "419b3dae",
   "metadata": {},
   "outputs": [],
   "source": [
    "ax = sns.boxplot(x=\"year\", y=\"marking\", data=cleaned)"
   ]
  },
  {
   "cell_type": "code",
   "execution_count": null,
   "id": "1d8896ec",
   "metadata": {},
   "outputs": [],
   "source": [
    "ax = sns.boxplot(x=\"year\", y=\"vertical_per_km\", data=cleaned[cleaned[\"year\"] >= 2015])"
   ]
  },
  {
   "cell_type": "code",
   "execution_count": null,
   "id": "426ff578",
   "metadata": {},
   "outputs": [],
   "source": [
    "plot = sns.scatterplot(x=\"vertical_per_km\", y=\"ideal_pace\", hue=\"year\", palette=\"bright\", data=cleaned[cleaned[\"year\"] >= 2015])\n"
   ]
  },
  {
   "cell_type": "code",
   "execution_count": null,
   "id": "3f9b47f5",
   "metadata": {},
   "outputs": [],
   "source": [
    "cleaned"
   ]
  },
  {
   "cell_type": "code",
   "execution_count": null,
   "id": "6d2d1d75",
   "metadata": {},
   "outputs": [],
   "source": [
    "leg_means = cleaned[[\"leg\", \"ideal_pace\"]].groupby([\"leg\"]).agg(\"mean\")\n",
    "leg_means"
   ]
  },
  {
   "cell_type": "code",
   "execution_count": null,
   "id": "2fc8cf6b",
   "metadata": {},
   "outputs": [],
   "source": []
  },
  {
   "cell_type": "code",
   "execution_count": null,
   "id": "4cf1c7a6",
   "metadata": {},
   "outputs": [],
   "source": [
    "ax = sns.scatterplot(x=\"year\", y=\"terrain_coefficient\", hue=\"leg\", data=cleaned)"
   ]
  },
  {
   "cell_type": "code",
   "execution_count": null,
   "id": "be1e0dc2",
   "metadata": {},
   "outputs": [],
   "source": [
    "ax = sns.scatterplot(x=\"leg\", y=\"terrain_coefficient\", hue=\"year\", data=cleaned)"
   ]
  },
  {
   "cell_type": "code",
   "execution_count": null,
   "id": "29dde177",
   "metadata": {},
   "outputs": [],
   "source": [
    "runs = pd.read_csv(f'data/runs_{shared.race_id_str()}.tsv', delimiter='\\t')\n",
    "runs = runs.query(\"num_runs > 1\")"
   ]
  },
  {
   "cell_type": "code",
   "execution_count": null,
   "id": "f880b829",
   "metadata": {},
   "outputs": [],
   "source": [
    "runner_means = runs[[\"name\", \"pace\"]].groupby([\"name\"]).agg(\"mean\")\n",
    "runner_means\n"
   ]
  },
  {
   "cell_type": "code",
   "execution_count": null,
   "id": "7300a30c",
   "metadata": {},
   "outputs": [],
   "source": [
    "runs[\"pace_mean\"] = runner_means[\"pace\"][runs[\"name\"]].values\n",
    "runs[\"personal_coefficient\"] = runs[\"pace\"] / runs[\"pace_mean\"]\n",
    "\n",
    "runs.head()"
   ]
  },
  {
   "cell_type": "code",
   "execution_count": null,
   "id": "09e79fb0",
   "metadata": {},
   "outputs": [],
   "source": []
  },
  {
   "cell_type": "code",
   "execution_count": null,
   "id": "56cff564",
   "metadata": {},
   "outputs": [],
   "source": []
  },
  {
   "cell_type": "code",
   "execution_count": null,
   "id": "187f02d4",
   "metadata": {},
   "outputs": [],
   "source": [
    "runs = pd.merge(runs, cleaned[[\"year\", \"leg\", \"terrain_coefficient\", \"marking\", \"vertical\", \"vertical_per_km\"]], how=\"left\", on=[\"year\", \"leg\"])\n",
    "runs[\"personal_terain_diff\"] = runs[\"personal_coefficient\"] - runs[\"terrain_coefficient\"] \n",
    "runs.round(4)"
   ]
  },
  {
   "cell_type": "code",
   "execution_count": null,
   "id": "c2d846f9",
   "metadata": {},
   "outputs": [],
   "source": [
    "ax = sns.lmplot(x=\"terrain_coefficient\", y=\"personal_coefficient\", data=runs, height=8, aspect=1.7, ci=50,scatter_kws={'alpha':0.07}, x_jitter=0.0004)\n",
    "ax.set(ylim=(0.6, 1.6))"
   ]
  },
  {
   "cell_type": "code",
   "execution_count": null,
   "id": "e04d128c",
   "metadata": {},
   "outputs": [],
   "source": [
    "ax = sns.residplot(x=\"terrain_coefficient\", y=\"personal_coefficient\", lowess=True, data=runs,scatter_kws={'alpha':0.07})"
   ]
  },
  {
   "cell_type": "code",
   "execution_count": null,
   "id": "57d42ccc",
   "metadata": {},
   "outputs": [],
   "source": [
    "ax = sns.lmplot(x=\"terrain_coefficient\", y=\"personal_coefficient\", hue=\"leg\",data=runs, height=8, aspect=1.7, ci=50,scatter_kws={'alpha':0.07}, x_jitter=0.0003)\n",
    "ax.set(ylim=(0.6, 1.6))"
   ]
  },
  {
   "cell_type": "code",
   "execution_count": null,
   "id": "2024631f",
   "metadata": {},
   "outputs": [],
   "source": [
    "ax = sns.lmplot(x=\"terrain_coefficient\", y=\"personal_coefficient\", hue=\"year\",data=runs, height=8, aspect=1.7, ci=50,scatter_kws={'alpha':0.07}, x_jitter=0.0003)\n",
    "ax.set(ylim=(0.6, 1.6))"
   ]
  },
  {
   "cell_type": "code",
   "execution_count": null,
   "id": "71c4ef9e",
   "metadata": {},
   "outputs": [],
   "source": [
    "ax = sns.lmplot(x=\"marking\", y=\"personal_coefficient\", data=runs, height=8, aspect=1.7, ci=50,scatter_kws={'alpha':0.07}, x_jitter=3)\n",
    "ax.set(ylim=(0.6, 1.6))"
   ]
  },
  {
   "cell_type": "code",
   "execution_count": null,
   "id": "fc1b9678",
   "metadata": {},
   "outputs": [],
   "source": [
    "ax = sns.lmplot(x=\"vertical\", y=\"personal_coefficient\", data=runs, height=8, aspect=1.7, ci=50,scatter_kws={'alpha':0.07}, x_jitter=1)\n",
    "ax.set(ylim=(0.6, 1.6))"
   ]
  },
  {
   "cell_type": "code",
   "execution_count": null,
   "id": "842420bc",
   "metadata": {},
   "outputs": [],
   "source": [
    "ax = sns.lmplot(x=\"vertical_per_km\", y=\"personal_coefficient\", data=runs, height=8, aspect=1.7, ci=50,scatter_kws={'alpha':0.07}, x_jitter=0.1)\n",
    "ax.set(ylim=(0.6, 1.6))"
   ]
  },
  {
   "cell_type": "code",
   "execution_count": null,
   "id": "16c623e6",
   "metadata": {},
   "outputs": [],
   "source": [
    "ax = sns.boxplot(x=\"year\", y=\"personal_terain_diff\", data=runs.query(\"personal_terain_diff < 0.4 & personal_terain_diff > -0.3 & num_runs < 10\"))\n"
   ]
  },
  {
   "cell_type": "code",
   "execution_count": null,
   "id": "5fc51f91",
   "metadata": {},
   "outputs": [],
   "source": [
    "ax = sns.lmplot(x=\"terrain_coefficient\", y=\"personal_coefficient\",row=\"leg\", data=runs)"
   ]
  },
  {
   "cell_type": "code",
   "execution_count": null,
   "id": "3ecde6b7",
   "metadata": {},
   "outputs": [],
   "source": [
    "ax = sns.lmplot(x=\"terrain_coefficient\", y=\"personal_coefficient\",row=\"year\", data=runs)"
   ]
  },
  {
   "cell_type": "code",
   "execution_count": null,
   "id": "5009abff",
   "metadata": {},
   "outputs": [],
   "source": [
    "#\n",
    "runs[\"log_team_id\"]= np.log(runs[\"team_id\"])\n",
    "ax = sns.lmplot(x=\"log_team_id\", y=\"personal_coefficient\", data=runs)"
   ]
  },
  {
   "cell_type": "code",
   "execution_count": null,
   "id": "7653a4d0",
   "metadata": {},
   "outputs": [],
   "source": [
    "runner_name = \"nelly carlsson\"\n",
    "if race_type == \"ju\":\n",
    "    runner_name = \"topi anjala\"\n",
    "runner = runs[runs[\"name\"] == runner_name]\n",
    "ax = sns.lmplot(x=\"terrain_coefficient\", y=\"personal_coefficient\",data=runner)"
   ]
  },
  {
   "cell_type": "code",
   "execution_count": null,
   "id": "a4faad30",
   "metadata": {},
   "outputs": [],
   "source": [
    "runner.round(3)"
   ]
  },
  {
   "cell_type": "code",
   "execution_count": null,
   "id": "e855d897",
   "metadata": {},
   "outputs": [],
   "source": [
    "runner[\"terrain_coefficient\"].values"
   ]
  },
  {
   "cell_type": "markdown",
   "id": "39a35649",
   "metadata": {},
   "source": []
  },
  {
   "cell_type": "code",
   "execution_count": null,
   "id": "59442bbb",
   "metadata": {},
   "outputs": [],
   "source": [
    "from sklearn.linear_model import RANSACRegressor\n",
    "from sklearn.linear_model import LinearRegression\n"
   ]
  },
  {
   "cell_type": "code",
   "execution_count": null,
   "id": "a06fc3ca",
   "metadata": {},
   "outputs": [],
   "source": [
    "terrain_coefficients = runs[\"terrain_coefficient\"]\n",
    "personal_coefficients = runs[\"personal_coefficient\"]\n",
    "X = np.array(terrain_coefficients).reshape(-1, 1)\n",
    "y = np.array(personal_coefficients).reshape(-1,1) \n",
    "lr = LinearRegression().fit(X, y)\n",
    "defaults = {\n",
    "    \"default_intercept\": lr.intercept_[0], \n",
    "    \"default_coef\": lr.coef_[0][0], \n",
    "    \"score\":lr.score(X, y)\n",
    "}\n",
    "logging.info(f\"defaults: {defaults}\")\n",
    "import json\n",
    "with open(f\"data/default_personal_coefficients_{shared.race_id_str()}.json\", 'w') as fp:\n",
    "    json.dump(defaults, fp)"
   ]
  },
  {
   "cell_type": "code",
   "execution_count": null,
   "id": "ebdd270c",
   "metadata": {},
   "outputs": [],
   "source": [
    "X2 = np.array(runs[[\"terrain_coefficient\", \"marking\"]])\n",
    "X2.shape"
   ]
  },
  {
   "cell_type": "code",
   "execution_count": null,
   "id": "3b063794",
   "metadata": {},
   "outputs": [],
   "source": [
    "lr = LinearRegression().fit(X2, y)\n",
    "lr.coef_[0]"
   ]
  },
  {
   "cell_type": "code",
   "execution_count": null,
   "id": "98f3e368",
   "metadata": {},
   "outputs": [],
   "source": [
    "#subset = runs[runs[\"num_runs\"] > 2]\n",
    "subset = runs\n",
    "#subset = runs[runs[\"team\"] == \"REAKTOR INNOVATIONS\"]\n",
    "by_name = pd.DataFrame(data=subset.groupby(\"name\")[\"terrain_coefficient\"].apply(list).items(), columns=[\"name\", \"terrain_coefficients\"])    \n",
    "personal = pd.DataFrame(data=subset.groupby(\"name\")[\"personal_coefficient\"].apply(list).items(), columns=[\"name\", \"personal_coefficients\"])\n",
    "by_name[\"personal_coefficients\"] = personal[\"personal_coefficients\"]\n",
    "by_name[\"num_runs\"] = by_name[\"terrain_coefficients\"].apply(len)\n",
    "by_name = by_name[by_name[\"num_runs\"] > 2]\n",
    "by_name"
   ]
  },
  {
   "cell_type": "code",
   "execution_count": null,
   "id": "0fa84453",
   "metadata": {},
   "outputs": [],
   "source": []
  },
  {
   "cell_type": "code",
   "execution_count": null,
   "id": "6a54b76f",
   "metadata": {},
   "outputs": [],
   "source": [
    "def calculate_coef(row):\n",
    "    name = row[\"name\"]\n",
    "    terrain_coefficients = row[\"terrain_coefficients\"]\n",
    "    X = np.array(terrain_coefficients).reshape(len(terrain_coefficients),1) \n",
    "    y = np.array(row[\"personal_coefficients\"]).reshape(len(terrain_coefficients),1) \n",
    "    lr = LinearRegression().fit(X, y)\n",
    "    score = lr.score(X, y)\n",
    "    #logging.info(f\"{name} intercept_: {lr.intercept_}, coef_: {lr.coef_[0][0]}\")\n",
    "    return [lr.coef_[0][0], lr.intercept_[0],  score]\n",
    "\n",
    "by_name[[\"coef\", \"intercept\", \"score\"]] = by_name.apply(calculate_coef, axis=1, result_type=\"expand\")  \n",
    "by_name.sample(10).round(4)"
   ]
  },
  {
   "cell_type": "code",
   "execution_count": null,
   "id": "bd922229",
   "metadata": {},
   "outputs": [],
   "source": [
    "by_name[\"bad_prediction\"] = (by_name[\"coef\"] <= 0) | (by_name[\"score\"] <= 0)\n",
    "by_name[\"bad_prediction\"].mean()"
   ]
  },
  {
   "cell_type": "code",
   "execution_count": null,
   "id": "3dbdc84e",
   "metadata": {},
   "outputs": [],
   "source": [
    "by_name[['bad_prediction', \"num_runs\", \"score\"]].groupby(['num_runs']).agg([\"mean\", \"count\"])"
   ]
  },
  {
   "cell_type": "code",
   "execution_count": null,
   "id": "ee0a28aa",
   "metadata": {},
   "outputs": [],
   "source": [
    "ax = sns.boxplot(x=\"num_runs\", y=\"coef\", data=by_name.query(\"coef < 6 & coef > -6 & num_runs <= 9 \"))"
   ]
  },
  {
   "cell_type": "code",
   "execution_count": null,
   "id": "4c9ec2d7",
   "metadata": {},
   "outputs": [],
   "source": [
    "ax = sns.histplot(data=by_name.query(\"coef > 0 & score > 0.01\"), x=\"score\", bins=100)"
   ]
  },
  {
   "cell_type": "code",
   "execution_count": null,
   "id": "68792a8e",
   "metadata": {},
   "outputs": [],
   "source": [
    "by_name.query(\"coef > 0 & score > 0.99\").sort_values(by=['num_runs'], ascending=False)"
   ]
  },
  {
   "cell_type": "code",
   "execution_count": null,
   "id": "2414276f",
   "metadata": {},
   "outputs": [],
   "source": [
    "ax = sns.scatterplot(x=\"score\", y=\"coef\", hue=\"num_runs\", data=by_name.query(\"coef < 4 & coef > -4 & num_runs < 10\"))"
   ]
  },
  {
   "cell_type": "code",
   "execution_count": null,
   "id": "9a8921af",
   "metadata": {},
   "outputs": [],
   "source": [
    "def percentile(n):\n",
    "    def percentile_(x):\n",
    "        return np.percentile(x, n)\n",
    "    percentile_.__name__ = 'p_%s' % n\n",
    "    return percentile_\n",
    "\n",
    "leg_stats = runs[['year', \"leg\", \"pace\"]].groupby(['year', \"leg\"]).agg(\n",
    "        [\"min\",percentile(1) ,percentile(5) ,\"median\", \"mean\", \"std\", \"count\"])"
   ]
  },
  {
   "cell_type": "code",
   "execution_count": null,
   "id": "a9edc464",
   "metadata": {},
   "outputs": [],
   "source": []
  },
  {
   "cell_type": "code",
   "execution_count": null,
   "id": "52ed7f0f",
   "metadata": {},
   "outputs": [],
   "source": [
    "leg_stats = leg_stats.reset_index()\n",
    "leg_stats.columns = [f\"{pair[0]}{pair[1]}\" for pair in leg_stats.columns] \n",
    "leg_stats"
   ]
  },
  {
   "cell_type": "code",
   "execution_count": null,
   "id": "57160e17",
   "metadata": {},
   "outputs": [],
   "source": [
    "with_runs = pd.merge(cleaned, leg_stats, how=\"left\", on=[\"year\", \"leg\"])\n",
    "with_runs"
   ]
  },
  {
   "cell_type": "code",
   "execution_count": null,
   "id": "6d8dba3e",
   "metadata": {},
   "outputs": [],
   "source": [
    "with_ideal = pd.merge(runs, cleaned, how=\"left\", on=[\"year\", \"leg\"])\n",
    "with_ideal[\"ideal_ratio\"] = with_ideal[\"pace\"] / with_ideal[\"ideal_pace\"]\n",
    "with_ideal"
   ]
  },
  {
   "cell_type": "code",
   "execution_count": null,
   "id": "47e0dd26",
   "metadata": {},
   "outputs": [],
   "source": [
    "with_ideal.columns\n",
    "ax = sns.lmplot(x=\"ideal_pace\", y=\"pace\", data=with_ideal)"
   ]
  },
  {
   "cell_type": "code",
   "execution_count": null,
   "id": "7357287d",
   "metadata": {},
   "outputs": [],
   "source": [
    "g = sns.FacetGrid(with_ideal, col=\"leg\", row=\"year\")\n",
    "g.map(sns.histplot, \"personal_coefficient\", alpha=.7)\n",
    "g.add_legend()\n",
    "g.set(xlim=(0.7, 1.35), ylim=(0, 180))\n",
    "plt.axvline(2.8, 0,0.17)"
   ]
  },
  {
   "cell_type": "code",
   "execution_count": null,
   "id": "90d4b19e",
   "metadata": {},
   "outputs": [],
   "source": [
    "year = 2022\n",
    "ve_or_ju = \"ve\"\n"
   ]
  },
  {
   "cell_type": "code",
   "execution_count": null,
   "id": "1896a2c0",
   "metadata": {},
   "outputs": [],
   "source": []
  }
 ],
 "metadata": {
  "language_info": {
   "name": "python"
  }
 },
 "nbformat": 4,
 "nbformat_minor": 5
}
