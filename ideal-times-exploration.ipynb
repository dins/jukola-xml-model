{
 "cells": [
  {
   "cell_type": "code",
   "execution_count": null,
   "id": "6044d54c",
   "metadata": {},
   "outputs": [],
   "source": [
    "import pandas as pd\n",
    "import numpy as np\n",
    "import seaborn as sns\n",
    "import logging\n",
    "import shared\n",
    "import os\n",
    "import matplotlib.pyplot as plt\n",
    "\n",
    "os.environ['RACE_TYPE'] = \"ju\"\n",
    "os.environ['FORECAST_YEAR'] = \"2024\"\n",
    "race_type = shared.race_type()\n",
    "#year = shared.forecast_year()\n",
    "import time\n",
    "startTime = time.time()\n",
    "sns.set(rc={\"figure.figsize\":(16, 9)}) \n",
    "\n",
    "# Extract the current figsize to determine height and aspect for lmplot\n",
    "global_fig_width, global_fig_height = plt.rcParams['figure.figsize']\n",
    "global_aspect_ratio = global_fig_width / global_fig_height"
   ]
  },
  {
   "cell_type": "code",
   "execution_count": null,
   "id": "a82e32a1",
   "metadata": {},
   "outputs": [],
   "source": [
    "cleaned = pd.read_csv(f'Jukola-terrain/ideal-paces-{race_type}.tsv', delimiter='\\t')"
   ]
  },
  {
   "cell_type": "code",
   "execution_count": null,
   "id": "89443548",
   "metadata": {},
   "outputs": [],
   "source": [
    "cleaned.sort_values(by=[\"year\", \"leg\"], ascending=[False, True])"
   ]
  },
  {
   "cell_type": "code",
   "execution_count": null,
   "id": "5288492b",
   "metadata": {},
   "outputs": [],
   "source": [
    "#sns.set(rc={\"figure.figsize\":(16, 9)}) \n",
    "plot = sns.scatterplot(x=\"year\", y=\"ideal_pace\", hue=\"leg\", palette=\"bright\", data=cleaned)\n",
    "\n"
   ]
  },
  {
   "cell_type": "code",
   "execution_count": null,
   "id": "18ad004e",
   "metadata": {},
   "outputs": [],
   "source": [
    "\n",
    "ax = sns.boxplot(x=\"year\", y=\"ideal_pace\", data=cleaned)"
   ]
  },
  {
   "cell_type": "code",
   "execution_count": null,
   "id": "06a4ecc3",
   "metadata": {},
   "outputs": [],
   "source": [
    "sns.boxplot(x=\"year\", y=\"terrain_coefficient\", data=cleaned)\n",
    "plt.axhline(y=1, color='b', linestyle='--', zorder=-1)"
   ]
  },
  {
   "cell_type": "code",
   "execution_count": null,
   "id": "2979ed7b",
   "metadata": {},
   "outputs": [],
   "source": [
    "\n",
    "ax = sns.boxplot(x=\"leg\", y=\"ideal_pace\", data=cleaned)"
   ]
  },
  {
   "cell_type": "code",
   "execution_count": null,
   "id": "419b3dae",
   "metadata": {},
   "outputs": [],
   "source": [
    "ax = sns.boxplot(x=\"year\", y=\"marking\", data=cleaned)"
   ]
  },
  {
   "cell_type": "code",
   "execution_count": null,
   "id": "1d8896ec",
   "metadata": {},
   "outputs": [],
   "source": [
    "ax = sns.boxplot(x=\"year\", y=\"vertical\", data=cleaned)"
   ]
  },
  {
   "cell_type": "code",
   "execution_count": null,
   "id": "426ff578",
   "metadata": {},
   "outputs": [],
   "source": [
    "plot = sns.scatterplot(x=\"vertical_per_km\", y=\"ideal_pace\", hue=\"year\", palette=\"bright\", data=cleaned[cleaned[\"vertical\"].notna()])\n"
   ]
  },
  {
   "cell_type": "code",
   "execution_count": null,
   "id": "3f9b47f5",
   "metadata": {},
   "outputs": [],
   "source": [
    "cleaned"
   ]
  },
  {
   "cell_type": "code",
   "execution_count": null,
   "id": "6d2d1d75",
   "metadata": {},
   "outputs": [],
   "source": [
    "leg_means = cleaned[[\"leg\", \"ideal_pace\"]].groupby([\"leg\"]).agg(\"mean\")\n",
    "leg_means"
   ]
  },
  {
   "cell_type": "code",
   "execution_count": null,
   "id": "2fc8cf6b",
   "metadata": {},
   "outputs": [],
   "source": []
  },
  {
   "cell_type": "code",
   "execution_count": null,
   "id": "4cf1c7a6",
   "metadata": {},
   "outputs": [],
   "source": [
    "ax = sns.scatterplot(x=\"year\", y=\"terrain_coefficient\", hue=\"leg\", palette=\"bright\", data=cleaned)"
   ]
  },
  {
   "cell_type": "code",
   "execution_count": null,
   "id": "be1e0dc2",
   "metadata": {},
   "outputs": [],
   "source": [
    "ax = sns.boxplot(x=\"leg\", y=\"terrain_coefficient\", data=cleaned)"
   ]
  },
  {
   "cell_type": "code",
   "execution_count": null,
   "id": "29dde177",
   "metadata": {},
   "outputs": [],
   "source": [
    "# To get all years use next year\n",
    "runs = pd.read_csv(f'data/long_runs_and_running_order_{shared.race_id_str()}.tsv', delimiter='\\t')\n",
    "runs = runs.dropna(subset=['pace'])\n",
    "runs = runs.drop(columns=['name'])\n",
    "runs"
   ]
  },
  {
   "cell_type": "code",
   "execution_count": null,
   "id": "f880b829",
   "metadata": {},
   "outputs": [],
   "source": [
    "runner_means = runs[[\"unique_name\", \"pace\"]].groupby([\"unique_name\"]).agg(\"mean\")\n",
    "runner_means\n"
   ]
  },
  {
   "cell_type": "code",
   "execution_count": null,
   "id": "42a31e56",
   "metadata": {},
   "outputs": [],
   "source": [
    "def percentile(n):\n",
    "    def percentile_(x):\n",
    "        return np.percentile(x, n)\n",
    "    percentile_.__name__ = 'p_%s' % n\n",
    "    return percentile_\n",
    "\n",
    "actual_stats_df = runs.groupby(\"year\").agg({\n",
    "    \"pace\": [\"count\", \"min\", \n",
    "             percentile(0.1), percentile(1), percentile(5), percentile(25), \"mean\", \"median\",\n",
    "             percentile(75), percentile(95), percentile(99), \"max\"]}).round(2)\n",
    "actual_stats_df"
   ]
  },
  {
   "cell_type": "code",
   "execution_count": null,
   "id": "7300a30c",
   "metadata": {},
   "outputs": [],
   "source": [
    "runs[\"pace_mean\"] = runner_means[\"pace\"][runs[\"unique_name\"]].values\n",
    "runs[\"personal_coefficient\"] = runs[\"pace\"] / runs[\"pace_mean\"]\n",
    "runs[\"below_personal_coefficient\"] = runs[\"personal_coefficient\"] < 1\n",
    "runs.head()"
   ]
  },
  {
   "cell_type": "code",
   "execution_count": null,
   "id": "e538a1d9",
   "metadata": {},
   "outputs": [],
   "source": [
    "runs.groupby(\"year\").agg({\n",
    "    \"num_runs\": \"mean\", \n",
    "    \"below_personal_coefficient\": \"mean\",\n",
    "    \"personal_coefficient\": [\"count\", \"min\", \n",
    "             percentile(1), percentile(5), percentile(25), \"mean\", \"median\",\n",
    "             percentile(75), percentile(95), percentile(99), \"max\"]}).round(2)"
   ]
  },
  {
   "cell_type": "code",
   "execution_count": null,
   "id": "4535d89b-4199-42c6-98ae-7051f4dc352b",
   "metadata": {},
   "outputs": [],
   "source": [
    "#runs_for_plotting = runs[runs[\"pace\"] <=23].copy()\n",
    "runs_for_plotting = runs\n",
    "#runs_for_plotting[\"year\"] = runs_for_plotting[\"year\"].astype(str)\n",
    "runs_for_plotting['series'] = 'Actual results'\n",
    "runs_for_plotting['coefficient'] = runs_for_plotting['personal_coefficient']\n",
    "\n",
    "cleaned['series'] = 'Ideal paces'\n",
    "cleaned['pace'] = cleaned['ideal_pace']\n",
    "cleaned['coefficient'] = cleaned['terrain_coefficient']\n",
    "df_combined = pd.concat([runs_for_plotting[['year', 'pace', 'coefficient', 'series']], cleaned[['year', 'pace', 'coefficient', 'series']]], ignore_index=True)\n",
    "ax = sns.boxplot(x=\"year\", y=\"pace\", data=df_combined, hue='series', showfliers=False)"
   ]
  },
  {
   "cell_type": "code",
   "execution_count": null,
   "id": "09e79fb0",
   "metadata": {},
   "outputs": [],
   "source": []
  },
  {
   "cell_type": "code",
   "execution_count": null,
   "id": "56cff564",
   "metadata": {},
   "outputs": [],
   "source": [
    "selected_years_runs = runs_for_plotting[runs_for_plotting[\"year\"].isin([2004, 2010, 2013, 2014, 2019, 2021,2022,2023])]\n",
    "selected_years_runs = runs_for_plotting\n",
    "sns.displot(x=\"pace\", hue=\"year\", kind=\"kde\", height=6, aspect=1.7, palette=\"bright\", data=selected_years_runs)"
   ]
  },
  {
   "cell_type": "code",
   "execution_count": null,
   "id": "7f7ff6f1-2a64-4aa0-a517-b40062ac3e5c",
   "metadata": {},
   "outputs": [],
   "source": [
    "ax = sns.boxplot(x=\"year\", y=\"coefficient\", hue='series', showfliers=False, data=df_combined)\n",
    "plt.axhline(y=1, color='b', linestyle='--', zorder=-1)\n",
    "ax.set_title(f\"Toteutuneet juoksijoiden keskinopeuskertoimet ja ratamestareiden ideaalinopeuskertoimet {os.environ['RACE_TYPE'].upper()}\")"
   ]
  },
  {
   "cell_type": "code",
   "execution_count": null,
   "id": "c3e0a47c",
   "metadata": {},
   "outputs": [],
   "source": []
  },
  {
   "cell_type": "code",
   "execution_count": null,
   "id": "187f02d4",
   "metadata": {},
   "outputs": [],
   "source": [
    "runs = pd.merge(runs, cleaned[[\"year\", \"leg\", \"terrain_coefficient\", \"marking\", \"vertical\", \"vertical_per_km\", \"ideal_pace\"]], how=\"left\", on=[\"year\", \"leg\"])\n",
    "runs[\"personal_terain_diff\"] = runs[\"personal_coefficient\"] - runs[\"terrain_coefficient\"] \n",
    "runs.round(4)"
   ]
  },
  {
   "cell_type": "code",
   "execution_count": null,
   "id": "c2d846f9",
   "metadata": {},
   "outputs": [],
   "source": [
    "ax = sns.lmplot(x=\"terrain_coefficient\", y=\"personal_coefficient\", data=runs, height=8, aspect=1.7, ci=50,scatter_kws={'alpha':0.07}, x_jitter=0.0004)\n",
    "ax.set(ylim=(0.45, 1.8))"
   ]
  },
  {
   "cell_type": "code",
   "execution_count": null,
   "id": "e04d128c",
   "metadata": {},
   "outputs": [],
   "source": [
    "ax = sns.residplot(x=\"terrain_coefficient\", y=\"personal_coefficient\", lowess=True, data=runs,scatter_kws={'alpha':0.07})"
   ]
  },
  {
   "cell_type": "code",
   "execution_count": null,
   "id": "57d42ccc",
   "metadata": {},
   "outputs": [],
   "source": [
    "ax = sns.lmplot(x=\"terrain_coefficient\", y=\"personal_coefficient\", hue=\"leg\",data=runs, height=8, aspect=1.7, ci=50,scatter_kws={'alpha':0.07}, x_jitter=0.0003)\n",
    "ax.set(ylim=(0.6, 1.6))"
   ]
  },
  {
   "cell_type": "code",
   "execution_count": null,
   "id": "2024631f",
   "metadata": {},
   "outputs": [],
   "source": [
    "ax = sns.lmplot(x=\"terrain_coefficient\", y=\"personal_coefficient\", hue=\"year\",data=runs, height=8, aspect=1.7, ci=50,scatter_kws={'alpha':0.07}, x_jitter=0.0003)\n",
    "ax.set(ylim=(0.6, 1.6))"
   ]
  },
  {
   "cell_type": "code",
   "execution_count": null,
   "id": "71c4ef9e",
   "metadata": {},
   "outputs": [],
   "source": [
    "ax = sns.lmplot(x=\"marking\", y=\"personal_coefficient\", data=runs, height=8, aspect=1.7, ci=50,scatter_kws={'alpha':0.07}, x_jitter=3)\n",
    "ax.set(ylim=(0.6, 1.6))"
   ]
  },
  {
   "cell_type": "code",
   "execution_count": null,
   "id": "fc1b9678",
   "metadata": {},
   "outputs": [],
   "source": [
    "ax = sns.lmplot(x=\"vertical\", y=\"personal_coefficient\", data=runs, height=8, aspect=1.7, ci=50,scatter_kws={'alpha':0.07}, x_jitter=1)\n",
    "ax.set(ylim=(0.6, 1.6))"
   ]
  },
  {
   "cell_type": "code",
   "execution_count": null,
   "id": "842420bc",
   "metadata": {},
   "outputs": [],
   "source": [
    "ax = sns.lmplot(x=\"vertical_per_km\", y=\"personal_coefficient\", data=runs, height=8, aspect=1.7, ci=50,scatter_kws={'alpha':0.07}, x_jitter=0.1)\n",
    "ax.set(ylim=(0.6, 1.6))"
   ]
  },
  {
   "cell_type": "code",
   "execution_count": null,
   "id": "16c623e6",
   "metadata": {},
   "outputs": [],
   "source": [
    "#ax = sns.boxplot(x=\"year\", y=\"personal_terain_diff\", data=runs.query(\"personal_terain_diff < 0.4 & personal_terain_diff > -0.3 & num_runs < 10\"))\n",
    "ax = sns.boxplot(x=\"year\", y=\"personal_terain_diff\", showfliers=False, data=runs)\n",
    "\n"
   ]
  },
  {
   "cell_type": "code",
   "execution_count": null,
   "id": "5fc51f91",
   "metadata": {},
   "outputs": [],
   "source": [
    "ax = sns.lmplot(x=\"terrain_coefficient\", y=\"personal_coefficient\",row=\"leg\", data=runs)"
   ]
  },
  {
   "cell_type": "code",
   "execution_count": null,
   "id": "3ecde6b7",
   "metadata": {},
   "outputs": [],
   "source": [
    "#ax = sns.lmplot(x=\"terrain_coefficient\", y=\"personal_coefficient\",row=\"year\", data=runs)"
   ]
  },
  {
   "cell_type": "code",
   "execution_count": null,
   "id": "5009abff",
   "metadata": {},
   "outputs": [],
   "source": [
    "#\n",
    "#runs[\"log_team_id\"]= np.log(runs[\"team_id\"])\n",
    "#ax = sns.lmplot(x=\"log_team_id\", y=\"personal_coefficient\", data=runs)"
   ]
  },
  {
   "cell_type": "code",
   "execution_count": null,
   "id": "7653a4d0",
   "metadata": {},
   "outputs": [],
   "source": [
    "runner_name = \"nelly carlsson\"\n",
    "if race_type == \"ju\":\n",
    "    runner_name = \"topi anjala\"\n",
    "    #runner_name = \"topi penttinen\"\n",
    "    runner_name = \"janne ala-äijälä\"\n",
    "    # runner_name = \"jeppe koivula\"\n",
    "    #runner_name = \"juha meronen\"\n",
    "    #runner_name = \"oskari pirttikoski\"\n",
    "    #runner_name = \"joni freeman\"\n",
    "    #runner_name = \"jukka-pekka seppänen\"\n",
    "\n",
    "    \n",
    "runner = runs[runs[\"name\"] == runner_name]\n",
    "ax = sns.lmplot(x=\"ideal_pace\", y=\"pace\",data=runner, height= global_fig_height, aspect=global_aspect_ratio)\n",
    "plt.title(runner_name)\n",
    "\n",
    "# Iterate through the DataFrame and add annotations\n",
    "for index, row in runner.iterrows():\n",
    "    plt.annotate(\n",
    "        text=f\"{row['year']} leg {row['leg']}\", # This is the text to use for the annotation.\n",
    "        xy=(row['ideal_pace'], row['pace']), # This is the point (x,y) to annotate.\n",
    "        xytext=(5,5), # This is the distance from the text to the point (x,y).\n",
    "        textcoords='offset points', # This specifies the coordinate system that xytext is given in.\n",
    "        ha='right', # This is the horizontal alignment of the text.\n",
    "        va='bottom' # This is the vertical alignment of the text.\n",
    "    )\n",
    "#runner.info()"
   ]
  },
  {
   "cell_type": "code",
   "execution_count": null,
   "id": "a4faad30",
   "metadata": {},
   "outputs": [],
   "source": [
    "runner.round(3)"
   ]
  },
  {
   "cell_type": "code",
   "execution_count": null,
   "id": "e855d897",
   "metadata": {},
   "outputs": [],
   "source": []
  },
  {
   "cell_type": "code",
   "execution_count": null,
   "id": "9a8921af",
   "metadata": {},
   "outputs": [],
   "source": [
    "\n"
   ]
  },
  {
   "cell_type": "code",
   "execution_count": null,
   "id": "1896a2c0",
   "metadata": {},
   "outputs": [],
   "source": []
  }
 ],
 "metadata": {
  "language_info": {
   "name": "python"
  }
 },
 "nbformat": 4,
 "nbformat_minor": 5
}
