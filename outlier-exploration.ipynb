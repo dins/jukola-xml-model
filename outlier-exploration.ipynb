{
 "cells": [
  {
   "cell_type": "code",
   "execution_count": null,
   "id": "299fc7ad",
   "metadata": {},
   "outputs": [],
   "source": [
    "import json\n",
    "import logging\n",
    "\n",
    "import joblib\n",
    "import numpy as np\n",
    "import pandas as pd\n",
    "\n",
    "import shared\n",
    "\n",
    "# time poetry run python static_individual_estimates.py\n",
    "\n",
    "logging.basicConfig(level=logging.INFO, format='%(asctime)s %(message)s')\n",
    "\n",
    "import static_individual_estimates"
   ]
  },
  {
   "cell_type": "code",
   "execution_count": null,
   "id": "031cf859",
   "metadata": {},
   "outputs": [],
   "source": [
    "import seaborn as sns\n",
    "import matplotlib.pyplot as plt\n",
    "sns.set(rc={\"figure.figsize\":(16, 9)}) "
   ]
  },
  {
   "cell_type": "code",
   "execution_count": null,
   "id": "d844e0bc",
   "metadata": {},
   "outputs": [],
   "source": [
    "runs = pd.read_csv(f'data/runs_{shared.race_id_str()}.tsv', delimiter='\\t')\n",
    "runs = runs.query(\"num_runs > 2\")\n",
    "#runs[\"log_pace\"] = np.log(runs[\"pace\"])\n",
    "runs"
   ]
  },
  {
   "cell_type": "code",
   "execution_count": null,
   "id": "a08ecd31",
   "metadata": {},
   "outputs": [],
   "source": [
    "by_name = pd.DataFrame(data=runs.groupby(\"name\")[\"pace\"].apply(list).items(),\n",
    "                       columns=[\"name\", \"paces\"])\n",
    "by_name"
   ]
  },
  {
   "cell_type": "code",
   "execution_count": null,
   "id": "b3cbac6e",
   "metadata": {},
   "outputs": [],
   "source": [
    "from sklearn.covariance import EllipticEnvelope\n",
    "from sklearn.neighbors import LocalOutlierFactor\n",
    "from sklearn.preprocessing import Normalizer"
   ]
  },
  {
   "cell_type": "code",
   "execution_count": null,
   "id": "b7ad4f98",
   "metadata": {},
   "outputs": [],
   "source": [
    "def calculate_coef(row):\n",
    "    name = row[\"name\"]\n",
    "    paces = row[\"paces\"]\n",
    "    X = np.array(paces).reshape(-1,1) \n",
    "    #y = np.array(row[\"personal_coefficients\"]).reshape(len(terrain_coefficients),1) \n",
    "    #cov = EllipticEnvelope(random_state=2021, contamination=0.001).fit(X)\n",
    "    #predictions = cov.predict(X)\n",
    "    normalized = X / np.mean(X)\n",
    "    #predictions = LocalOutlierFactor(contamination=0.05).fit_predict(X)\n",
    "    predictions = normalized > 1.2\n",
    "    # imputed = paces\n",
    "    #    imputed[predictions] = np.mean(X)\n",
    "    logging.info(f\"{name} normalized: {normalized}, predictions: {predictions}, paces: {X}\")\n",
    "    return [predictions]\n",
    "\n",
    "by_name[[\"predictions\"]] = by_name.apply(calculate_coef, axis=1, result_type=\"expand\")  \n",
    "by_name.sample(10).round(4)\n",
    "\n"
   ]
  },
  {
   "cell_type": "code",
   "execution_count": null,
   "id": "7fb98eba",
   "metadata": {},
   "outputs": [],
   "source": [
    "\"nan\".split(\",\")"
   ]
  },
  {
   "cell_type": "code",
   "execution_count": null,
   "id": "3ae37d9f",
   "metadata": {},
   "outputs": [],
   "source": [
    "runner_means = runs[[\"name\", \"pace\"]].groupby([\"name\"]).agg(\"mean\")\n",
    "runs[\"pace_mean\"] = runner_means[\"pace\"][runs[\"name\"]].values\n",
    "runs[\"outlier\"] = (runs[\"pace\"] / runs[\"pace_mean\"]) > 1.25\n",
    "runs[\"fixed_pace\"] = runs[\"pace\"]\n",
    "runs.loc[runs[\"outlier\"]==True, \"fixed_pace\"] = runs[runs[\"outlier\"]==True][\"pace_mean\"]\n",
    "runs"
   ]
  },
  {
   "cell_type": "code",
   "execution_count": null,
   "id": "dcf71069",
   "metadata": {},
   "outputs": [],
   "source": [
    "runs[\"outlier\"].mean()"
   ]
  },
  {
   "cell_type": "code",
   "execution_count": null,
   "id": "913834db",
   "metadata": {},
   "outputs": [],
   "source": []
  },
  {
   "cell_type": "code",
   "execution_count": null,
   "id": "45916b28",
   "metadata": {},
   "outputs": [],
   "source": []
  },
  {
   "cell_type": "code",
   "execution_count": null,
   "id": "b684c2db",
   "metadata": {},
   "outputs": [],
   "source": []
  }
 ],
 "metadata": {
  "language_info": {
   "name": "python"
  }
 },
 "nbformat": 4,
 "nbformat_minor": 5
}
