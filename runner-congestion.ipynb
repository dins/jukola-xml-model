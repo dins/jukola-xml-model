{
 "cells": [
  {
   "cell_type": "code",
   "execution_count": null,
   "id": "a22d036f",
   "metadata": {},
   "outputs": [],
   "source": [
    "import pandas as pd\n",
    "import numpy as np\n",
    "import logging\n",
    "import shared\n",
    "import os\n",
    "import xmltodict\n",
    "\n",
    "os.environ['RACE_TYPE'] = \"ju\"\n",
    "race_type = shared.race_type()\n",
    "#year = shared.forecast_year()\n",
    "import time\n",
    "startTime = time.time()"
   ]
  },
  {
   "cell_type": "code",
   "execution_count": null,
   "id": "9422ceed",
   "metadata": {},
   "outputs": [],
   "source": []
  },
  {
   "cell_type": "code",
   "execution_count": null,
   "id": "c6c86847",
   "metadata": {},
   "outputs": [],
   "source": []
  },
  {
   "cell_type": "code",
   "execution_count": null,
   "id": "d104905a",
   "metadata": {},
   "outputs": [],
   "source": []
  },
  {
   "cell_type": "code",
   "execution_count": null,
   "id": "3b073ae8",
   "metadata": {},
   "outputs": [],
   "source": []
  },
  {
   "cell_type": "code",
   "execution_count": null,
   "id": "5f48b213",
   "metadata": {},
   "outputs": [],
   "source": []
  },
  {
   "cell_type": "code",
   "execution_count": null,
   "id": "3ee0812b",
   "metadata": {},
   "outputs": [],
   "source": [
    "with open(f'data/results_j2022_{race_type}.xml', 'r', encoding='utf-8') as file:\n",
    "#with open(f'small-res.xml', 'r', encoding='utf-8') as file:\n",
    "    my_xml = file.read()\n",
    "    my_dict = xmltodict.parse(my_xml)"
   ]
  },
  {
   "cell_type": "code",
   "execution_count": null,
   "id": "bee7ad6b",
   "metadata": {},
   "outputs": [],
   "source": [
    "len(my_dict['event']['class']['team'])"
   ]
  },
  {
   "cell_type": "code",
   "execution_count": null,
   "id": "9e90ba2d",
   "metadata": {},
   "outputs": [],
   "source": [
    "pd.json_normalize(my_dict['event']['class']['team'])"
   ]
  },
  {
   "cell_type": "code",
   "execution_count": null,
   "id": "bfff1fe1",
   "metadata": {},
   "outputs": [],
   "source": [
    "teams_list = my_dict['event']['class']['team']\n",
    "display(len(teams_list))\n",
    "\n",
    "teams_df = pd.json_normalize(teams_list, \n",
    "                             errors=\"ignore\",\n",
    "                             meta=[\n",
    "                                 \"teamid\", \"teamname\", \"teamnro\", \"result\", \"tsecs\", \"placement\", \n",
    "                                  ], \n",
    "                             record_path=[\"leg\"], \n",
    "                             meta_prefix=\"team.\")\n",
    "teams_df.head()"
   ]
  },
  {
   "cell_type": "code",
   "execution_count": null,
   "id": "5d1efd4b",
   "metadata": {},
   "outputs": [],
   "source": [
    "#no_control_legs = teams_df[teams_df.control.isna()][[\"team.teamid\",\"legnro\"]].to_dict(orient=\"records\")\n",
    "teams_df[teams_df.control.isna()]"
   ]
  },
  {
   "cell_type": "code",
   "execution_count": null,
   "id": "42cdb347",
   "metadata": {},
   "outputs": [],
   "source": [
    "teams_df[(teams_df.control.isna()) & (teams_df.tsecs.notna())]"
   ]
  },
  {
   "cell_type": "code",
   "execution_count": null,
   "id": "271f7976",
   "metadata": {},
   "outputs": [],
   "source": [
    "def _clean_team(team):\n",
    "    clean_legs = [leg for leg in team[\"leg\"] if \"control\" in leg and isinstance(leg[\"control\"], list)]\n",
    "    team[\"leg\"] = clean_legs\n",
    "    return team\n",
    "\n",
    "clean_team_list = [_clean_team(team) for team in teams_list]\n",
    "\n",
    "len(clean_team_list)"
   ]
  },
  {
   "cell_type": "code",
   "execution_count": null,
   "id": "97910bdc",
   "metadata": {},
   "outputs": [],
   "source": [
    "#                                 \n",
    "\n",
    "controls_df = pd.json_normalize(clean_team_list, \n",
    "                             errors=\"ignore\",\n",
    "                             meta=[\n",
    "                                 \"teamid\", \"teamname\", \"teamnro\", \"result\", \"tsecs\", \"placement\", \n",
    "                                   ['leg', 'legnro'],\n",
    "                                     ['leg', 'nm'],\n",
    "                                     ['leg', 'crs'],\n",
    "                                     ['leg', 'emit'],\n",
    "                                     ['leg', 'result'],\n",
    "                                     ['leg', 'tsecs']\n",
    "                                  ], \n",
    "                             record_path=[\"leg\", \"control\"], \n",
    "                             meta_prefix=\"team.\", \n",
    "                             record_prefix=\"ctrl.\")\n",
    "controls_df"
   ]
  },
  {
   "cell_type": "code",
   "execution_count": null,
   "id": "c525f89d",
   "metadata": {},
   "outputs": [],
   "source": [
    "controls_df.info()"
   ]
  },
  {
   "cell_type": "code",
   "execution_count": null,
   "id": "f056e525",
   "metadata": {},
   "outputs": [],
   "source": [
    "controls_df.describe()"
   ]
  },
  {
   "cell_type": "code",
   "execution_count": null,
   "id": "cbb267df",
   "metadata": {},
   "outputs": [],
   "source": [
    "controls_df.sample(5)"
   ]
  },
  {
   "cell_type": "code",
   "execution_count": null,
   "id": "65375eab",
   "metadata": {},
   "outputs": [],
   "source": [
    "controls_df[controls_df[\"team.teamid\"] == \"409\"].head(60)"
   ]
  },
  {
   "cell_type": "code",
   "execution_count": null,
   "id": "350c814b",
   "metadata": {},
   "outputs": [],
   "source": [
    "controls_df[controls_df[\"ctrl.cd\"] == \"-\"]"
   ]
  },
  {
   "cell_type": "code",
   "execution_count": null,
   "id": "fb2f2f5f",
   "metadata": {},
   "outputs": [],
   "source": [
    "controls_df[[\"ctrl.cn\", \"ctrl.cc\", \"ctrl.cl\", \"ctrl.ct\", \"ctrl.cd\"]].info()\n",
    "#controls_df[controls_df[\"team.leg.nm\"] == \"Antti Parjanne\"]"
   ]
  },
  {
   "cell_type": "code",
   "execution_count": null,
   "id": "b5275b6e",
   "metadata": {},
   "outputs": [],
   "source": [
    "from datetime import datetime, timedelta\n",
    "#from datetime import time as dt_time\n",
    "\n",
    "\n",
    "def parse_time_with_hours(time_str):\n",
    "    # Extract the individual components of the time string\n",
    "    hour_str, minute_str, second_str = time_str.split(':')\n",
    "    \n",
    "    # Convert the components to integer values\n",
    "    hours = int(hour_str)\n",
    "    minutes = int(minute_str)\n",
    "    seconds = int(second_str)\n",
    "    \n",
    "    # Calculate the number of days and remaining hours\n",
    "    days, hours = divmod(hours, 24)\n",
    "    \n",
    "    # Create a new datetime object with the adjusted values\n",
    "    dt = datetime(1900, 1, 1) + timedelta(days=days, hours=hours, minutes=minutes, seconds=seconds)\n",
    "    \n",
    "    return dt\n",
    "\n",
    "def parse_time(control_time_text):\n",
    "    if pd.isna(control_time_text):\n",
    "        return control_time_text\n",
    "    \n",
    "    try:\n",
    "        return datetime.strptime(control_time_text, '%S')\n",
    "    except ValueError:\n",
    "        try:\n",
    "            return datetime.strptime(control_time_text, '%M:%S')\n",
    "        except ValueError:\n",
    "            try:\n",
    "                return parse_time_with_hours(control_time_text)\n",
    "            except ValueError:\n",
    "                print(\"Cannot parse \" + control_time_text)\n",
    "                raise\n",
    "\n",
    "#\n",
    "clean_controls_df = controls_df[controls_df[\"team.leg.nm\"].notna()]\n",
    "#clean_controls_df = clean_controls_df[controls_df[\"ctrl.cl\"].notna()] # Random clegs and finnish\n",
    "clean_controls_df.columns = [col.replace(\"team.leg\", \"leg\").replace(\"team.team\", \"team.\").replace(\"leg.leg\", \"leg.\") for col in clean_controls_df.columns]\n",
    "clean_controls_df = clean_controls_df.rename(columns={'leg.crs': 'leg.hajonta', 'leg.nm': 'leg.runnername', 'ctrl.cn': 'ctrl.num', 'ctrl.cc': 'ctrl.code', 'ctrl.cl': 'ctrl.distance', 'ctrl.ct': 'ctrl.time', 'ctrl.cd': 'ctrl.duration'})\n",
    "epoc_date = pd.to_datetime('1900-01-01')\n",
    "time_secs = (clean_controls_df[\"ctrl.time\"].apply(parse_time) - epoc_date).dt.total_seconds()\n",
    "clean_controls_df.insert(5, \"ctrl.time_secs\", time_secs)\n",
    "\n",
    "#clean_controls_df.loc[clean_controls_df[\"ctrl.duration\"] == \"-\", \"ctrl.duration\"] = pd.NA\n",
    "#clean_controls_df[\"ctrl.duration_temp\"] = clean_controls_df[\"ctrl.duration\"].apply(parse_time)\n",
    "#durations_secs = (clean_controls_df[\"ctrl.duration_temp\"] - epoc_date).dt.total_seconds()\n",
    "#clean_controls_df.insert(5, \"ctrl.durations_secs\", durations_secs)\n",
    "\n",
    "number_cols = ['ctrl.num', 'ctrl.code', 'ctrl.distance', 'ctrl.time_secs', 'team.id', 'team.nro', 'team.tsecs', 'team.placement', 'leg.nro', 'leg.tsecs']\n",
    "clean_controls_df[number_cols] = clean_controls_df[number_cols].apply(pd.to_numeric)\n",
    "clean_controls_df = clean_controls_df.sort_values([\"team.id\", \"leg.nro\", \"ctrl.num\"])\n",
    "max_cleg_time = clean_controls_df[\"leg.tsecs\"].max() * 0.8 \n",
    "clean_controls_df = clean_controls_df[clean_controls_df[\"ctrl.time_secs\"] < max_cleg_time]\n",
    "#clean_controls_df[\"team.result\"] = clean_controls_df[\"team.result\"].apply(parse_time)\n",
    "clean_controls_df.head()"
   ]
  },
  {
   "cell_type": "code",
   "execution_count": null,
   "id": "53c20d93",
   "metadata": {},
   "outputs": [],
   "source": [
    "clean_controls_df[clean_controls_df[\"leg.runnername\"].isin([\"Anu Kovanen\", \"Antti Jokinen\", \"Joose Nurmela\"])]\n",
    "#clean_controls_df.sort_values(\"ctrl.time_secs\").tail(20)\n",
    "#clean_controls_df[clean_controls_df[\"leg.tsecs\"].notna()].sort_values(\"leg.tsecs\").tail(20)\n",
    "#clean_controls_df[\"leg.tsecs\"].max()\n"
   ]
  },
  {
   "cell_type": "code",
   "execution_count": null,
   "id": "fb0d1efb",
   "metadata": {},
   "outputs": [],
   "source": [
    "clean_controls_df.info()"
   ]
  },
  {
   "cell_type": "code",
   "execution_count": null,
   "id": "1934c371",
   "metadata": {},
   "outputs": [],
   "source": [
    "def add_cleg_id(single):\n",
    "    single.insert(1, \"ctrl.previous_code\", single[\"ctrl.code\"].shift(1, fill_value=0))\n",
    "    single.insert(6, \"ctrl.previous_time_secs\", single[\"ctrl.time_secs\"].shift(1, fill_value=0))\n",
    "    cleg_ids = single[\"ctrl.previous_code\"].astype(str) + \"-\" + single[\"ctrl.code\"].astype(str)\n",
    "    single.insert(1, \"ctrl.cleg_id\", cleg_ids)\n",
    "    cleg_durations = single[\"ctrl.time_secs\"] - single[\"ctrl.previous_time_secs\"]\n",
    "    single.insert(9, \"ctrl.cleg_duration_secs\", cleg_durations)\n",
    "    return single\n",
    "df2 = clean_controls_df.groupby([\"team.id\", \"leg.nro\"]).apply(add_cleg_id).reset_index(drop=True)\n",
    "df2 "
   ]
  },
  {
   "cell_type": "code",
   "execution_count": null,
   "id": "77993117",
   "metadata": {},
   "outputs": [],
   "source": [
    "df2[df2[\"leg.runnername\"].str.contains(\"Joose Nurmela\")]"
   ]
  },
  {
   "cell_type": "code",
   "execution_count": null,
   "id": "05f755a5",
   "metadata": {},
   "outputs": [],
   "source": [
    "cleg_id_stats = df2.groupby(\"ctrl.cleg_id\").agg({\"ctrl.distance\": \"median\", \"leg.runnername\": \"nunique\", \"leg.nro\": \"nunique\", \"ctrl.cleg_duration_secs\": [\"mean\", \"median\"]}).sort_values((\"leg.runnername\", \"nunique\"))\n",
    "cleg_id_stats[cleg_id_stats[(\"leg.runnername\", \"nunique\")] > 14].round(1)\n"
   ]
  },
  {
   "cell_type": "code",
   "execution_count": null,
   "id": "6b69390b",
   "metadata": {},
   "outputs": [],
   "source": [
    "leg_times_df = df2[[\"team.id\", \"leg.nro\", \"leg.tsecs\"]].drop_duplicates().reset_index(drop=True)\n",
    "# We could calculate the relay time from controls but....\n",
    "leg_times_df = leg_times_df[leg_times_df[\"leg.tsecs\"].notna()].reset_index(drop=True)\n",
    "leg_times_df[\"end_relay_tsecs\"] = leg_times_df.groupby([\"team.id\"])[\"leg.tsecs\"].expanding().sum().reset_index(drop=True)\n",
    "leg_times_df[\"leg.start_relay_tsecs\"] = leg_times_df.groupby([\"team.id\"])[\"end_relay_tsecs\"].shift(1, fill_value=0).reset_index(drop=True)\n",
    "\n",
    "# Venlojen viestin viestinomainen vaihto suljetaan la 18.6.2022 klo 18:30. Siihen mennessä vaihtoon saapumattomien joukkueiden uusintalähtö osuuksille 2–4 tapahtuu karttatelineiltä klo 18:45. \n",
    "\n",
    "# Jukolan viestin viestinomainen vaihto suljetaan sunnuntaina 19.6.2022 klo 8:45.\n",
    "# Ankkureiden (7. osuus) uusintalähtö tapahtuu klo 9:00.\n",
    "relay_closes_secs = 9.75 * 3600\n",
    "logging.info(f\"{relay_closes_secs=}\")\n",
    "leg_7_mass_start_secs = 10 * 3600\n",
    "logging.info(f\"{leg_7_mass_start_secs=}\")\n",
    "#leg_times_df[\"leg_7_runners_in_mass_start\"] = (leg_times_df[\"leg.nro\"] == 7) & (leg_times_df[\"leg.start_relay_tsecs\"] >= relay_closes_secs)\n",
    "leg_7_runners_in_mass_start = (leg_times_df[\"leg.nro\"] == 7) & (leg_times_df[\"leg.start_relay_tsecs\"] >= relay_closes_secs)\n",
    "leg_times_df.loc[leg_7_runners_in_mass_start, \"leg.start_relay_tsecs\"] = leg_7_mass_start_secs\n",
    "# 2.-6. osuuksien uusintalähdöt tapahtuvat klo 9:30. \n",
    "leg_2_6_mass_start_secs = 10.5 * 3600\n",
    "logging.info(f\"{leg_2_6_mass_start_secs=}\")\n",
    "\n",
    "leg_2_6_runners_in_mass_start = (leg_times_df[\"leg.nro\"] >= 2) & (leg_times_df[\"leg.nro\"] <= 6) & (leg_times_df[\"leg.start_relay_tsecs\"] >= relay_closes_secs)\n",
    "leg_times_df.loc[leg_2_6_runners_in_mass_start, \"leg.start_relay_tsecs\"] = leg_2_6_mass_start_secs\n",
    "\n",
    "leg_times_df[\"leg_rank\"] = leg_times_df.groupby([\"team.id\"])[\"leg.nro\"].rank()\n",
    "# unfortunately have to drop the rest of the legs as \n",
    "# its immpossible to calculate the relay time if legs are missing between\n",
    "leg_times_df = leg_times_df[leg_times_df[\"leg_rank\"] == leg_times_df[\"leg.nro\"]]\n",
    "\n",
    "display(leg_times_df[leg_times_df[\"team.id\"] == 22])\n",
    "display(leg_times_df[leg_times_df[\"team.id\"] == 150])\n",
    "display(leg_times_df[leg_times_df[\"team.id\"] == 36])\n",
    "\n",
    "leg_times_df = leg_times_df.drop(columns=[\"leg.tsecs\", \"end_relay_tsecs\"])\n",
    "\n",
    "leg_times_df"
   ]
  },
  {
   "cell_type": "code",
   "execution_count": null,
   "id": "46200dab",
   "metadata": {},
   "outputs": [],
   "source": [
    "#8352.0 + 5993.0 + 14125.0\n",
    "leg_times_df.groupby(\"leg.nro\").agg({\"team.id\": \"count\", \"leg.start_relay_tsecs\": [\"mean\", \"median\", \"min\", \"max\"]})"
   ]
  },
  {
   "cell_type": "code",
   "execution_count": null,
   "id": "c3c5589a",
   "metadata": {},
   "outputs": [],
   "source": [
    "leg_times_df.describe()\n",
    "leg_times_df[(leg_times_df[\"leg.start_relay_tsecs\"] == 4723.0) & (leg_times_df[\"leg.nro\"] > 1)]"
   ]
  },
  {
   "cell_type": "code",
   "execution_count": null,
   "id": "e1f821b1",
   "metadata": {},
   "outputs": [],
   "source": [
    "37800.000000 / 3600\n",
    "#leg_times_df[leg_times_df[\"leg.start_relay_tsecs\"] > leg_2_6_mass_start_secs]\n",
    "#leg_times_df.info()"
   ]
  },
  {
   "cell_type": "code",
   "execution_count": null,
   "id": "feea17ad",
   "metadata": {},
   "outputs": [],
   "source": [
    "relay_df = pd.merge(df2,leg_times_df , how='inner', on=['team.id', 'leg.nro'])\n",
    "relay_df.head(30)\n",
    "relay_df = relay_df[relay_df[\"leg.start_relay_tsecs\"].notna()]"
   ]
  },
  {
   "cell_type": "code",
   "execution_count": null,
   "id": "77efb009",
   "metadata": {},
   "outputs": [],
   "source": [
    "relay_df[\"cleg_start_relay_time\"] = relay_df[\"ctrl.previous_time_secs\"] + relay_df[\"leg.start_relay_tsecs\"]\n",
    "relay_df[\"cleg_end_relay_time\"] = relay_df[\"ctrl.time_secs\"] + relay_df[\"leg.start_relay_tsecs\"]\n",
    "relay_df[\"cleg_middle_relay_time\"] = relay_df[\"cleg_start_relay_time\"] + (relay_df[\"ctrl.cleg_duration_secs\"] / 2)\n",
    "relay_df[\"cleg_middle_relay_time_minute\"] = (relay_df[\"cleg_middle_relay_time\"] / 60).astype(int)\n",
    "relay_df.info()"
   ]
  },
  {
   "cell_type": "code",
   "execution_count": null,
   "id": "96335fca",
   "metadata": {},
   "outputs": [],
   "source": [
    "relay_df.describe()"
   ]
  },
  {
   "cell_type": "code",
   "execution_count": null,
   "id": "3b8468a4",
   "metadata": {},
   "outputs": [],
   "source": [
    "relay_df[relay_df[\"cleg_start_relay_time\"] > 16 * 3600]"
   ]
  },
  {
   "cell_type": "code",
   "execution_count": null,
   "id": "75d1c175",
   "metadata": {},
   "outputs": [],
   "source": [
    "def _add_overlaps_count(cleg_df):\n",
    "    # convert start and end columns to numpy arrays\n",
    "    start = cleg_df['cleg_start_relay_time'].values\n",
    "    end = cleg_df['cleg_end_relay_time'].values\n",
    "    # start[:, None] is a numpy indexing operation that adds a new axis to the start array.\n",
    "    # In the comparison start[:, None] < end, numpy automatically broadcasts the two arrays together\n",
    "    # so that they have the same shape. This is done by “stretching” the start array along its new axis \n",
    "    # to match the shape of the end array. The result is a 2D boolean array with shape (n, n) where \n",
    "    # each element indicates whether the corresponding element in the start array is less than \n",
    "    # the corresponding element in the end array.\n",
    "    cleg_df['num_runners_on_cleg'] =  np.sum((start[:, None] < end) & (end[:, None] > start), axis=1) - 1\n",
    "    return cleg_df\n",
    "\n",
    "    \n",
    "    \n",
    "overlaps_df = relay_df.groupby([\"ctrl.cleg_id\"]).apply(_add_overlaps_count).reset_index(drop=True)\n",
    "# ctrl.distance is missing for final and is wrong on unplanned clegs\n",
    "overlaps_df['num_runners_on_cleg_per_100m'] = overlaps_df['num_runners_on_cleg'] * 100 / overlaps_df['ctrl.distance'] \n",
    "overlaps_df = overlaps_df.sort_values([\"team.id\", \"leg.nro\", \"ctrl.num\"])\n",
    "overlaps_df"
   ]
  },
  {
   "cell_type": "code",
   "execution_count": null,
   "id": "e2afa5dd",
   "metadata": {},
   "outputs": [],
   "source": [
    "overlaps_df.info()"
   ]
  },
  {
   "cell_type": "code",
   "execution_count": null,
   "id": "ed360f97",
   "metadata": {},
   "outputs": [],
   "source": [
    "import seaborn as sns\n",
    "overlaps_df[overlaps_df[\"leg.runnername\"].str.contains(\"Oskari Pirttikoski\")]"
   ]
  },
  {
   "cell_type": "code",
   "execution_count": null,
   "id": "e2a3d9eb",
   "metadata": {},
   "outputs": [],
   "source": [
    "cleg2_df = overlaps_df[overlaps_df[\"ctrl.cleg_id\"] == \"0-119\"].copy()\n",
    "cleg2_df[\"debug_individual\"] = cleg2_df[\"leg.runnername\"].str.contains(\"Oskari Pirttikoski\")\n",
    "cleg2_df"
   ]
  },
  {
   "cell_type": "code",
   "execution_count": null,
   "id": "53117c69",
   "metadata": {},
   "outputs": [],
   "source": [
    "sns.set(rc={\"figure.figsize\":(16, 9)}) \n",
    "sns.scatterplot(cleg2_df,x=\"cleg_middle_relay_time_minute\", y=\"num_runners_on_cleg_per_100m\", \n",
    "                style=\"debug_individual\", hue=\"leg.nro\", palette=\"bright\")\n",
    "\n"
   ]
  },
  {
   "cell_type": "code",
   "execution_count": null,
   "id": "763367a6",
   "metadata": {},
   "outputs": [],
   "source": [
    "#overlaps_df.nunique()\n",
    "cleg_minutes = overlaps_df.groupby([\"leg.nro\", \"cleg_middle_relay_time_minute\"]).agg({\"num_runners_on_cleg_per_100m\": [\"mean\", \"median\", \"count\"], \"ctrl.cleg_id\": [\"count\", \"nunique\"]}).reset_index()\n",
    "#cleg_minutes.columns = ['_'.join(tup).rstrip('_') for tup in cleg_minutes.columns.values]                                                                            \n",
    "cleg_minutes.columns = [\"_\".join(col).rstrip('_') for col in cleg_minutes.columns.to_flat_index()]\n",
    "cleg_minutes[\"cleg_middle_time\"] = shared.start_timestamp[race_type][2022] + pd.to_timedelta(cleg_minutes[\"cleg_middle_relay_time_minute\"], unit=\"minutes\")\n",
    "cleg_minutes\n",
    "\n"
   ]
  },
  {
   "cell_type": "code",
   "execution_count": null,
   "id": "6b81df8a",
   "metadata": {},
   "outputs": [],
   "source": [
    "import matplotlib.dates as mdates\n",
    "ax = sns.lineplot(cleg_minutes,x=cleg_minutes[\"cleg_middle_time\"].dt.round(freq='10min'), y=\"num_runners_on_cleg_per_100m_mean\", hue=\"leg.nro\", palette=\"bright\")\n",
    "# Show only the times on the x-axis\n",
    "# Set the date format and tick frequency\n",
    "#date_format = '%H:%M'  # Show only the time (hours and minutes)\n",
    "#tick_frequency = 2  # Show a tick every 2 hours\n",
    "#ax.xaxis.set_major_formatter(mdates.DateFormatter(date_format))\n",
    "#ax.xaxis.set_major_locator(mdates.HourLocator(interval=tick_frequency))\n"
   ]
  },
  {
   "cell_type": "code",
   "execution_count": null,
   "id": "7fccfed3",
   "metadata": {},
   "outputs": [],
   "source": [
    "overlaps_df.info()"
   ]
  },
  {
   "cell_type": "code",
   "execution_count": null,
   "id": "b38fa530",
   "metadata": {},
   "outputs": [],
   "source": [
    "\n",
    "legs_df = overlaps_df[overlaps_df[\"num_runners_on_cleg_per_100m\"].notna()].groupby([\"team.id\", \"team.name\", \"leg.nro\", \"leg.runnername\", \"leg.tsecs\", \"leg.start_relay_tsecs\", \"leg.result\", \"team.tsecs\"]).agg(\n",
    "    {\"num_runners_on_cleg_per_100m\": [\"mean\", \"median\", \"count\"], \n",
    "     \"ctrl.cleg_id\": [\"count\", \"nunique\"]\n",
    "    }).reset_index()\n",
    "#legs_df.columns = ['_'.join(tup).rstrip('_') for tup in cleg_minutes.columns.values]                                                                            \n",
    "legs_df.columns = [\"_\".join(col).rstrip('_') for col in legs_df.columns.to_flat_index()]\n",
    "race_start_timestamp = shared.start_timestamp[race_type][2022]\n",
    "legs_df.insert(5,\"leg_start_ts\", race_start_timestamp + pd.to_timedelta(legs_df[\"leg.start_relay_tsecs\"], unit=\"seconds\"))\n",
    "legs_df.insert(6,\"leg_end_ts\", legs_df[\"leg_start_ts\"] + pd.to_timedelta(legs_df[\"leg.tsecs\"], unit=\"seconds\"))\n",
    "legs_df\n"
   ]
  },
  {
   "cell_type": "code",
   "execution_count": null,
   "id": "34779482",
   "metadata": {},
   "outputs": [],
   "source": [
    "selected_legs = legs_df[legs_df[\"num_runners_on_cleg_per_100m_mean\"] > 40]\n",
    "legs_df[legs_df[\"team.id\"].isin(selected_legs[\"team.id\"].sample(1))]"
   ]
  },
  {
   "cell_type": "code",
   "execution_count": null,
   "id": "2a4a7221",
   "metadata": {},
   "outputs": [],
   "source": [
    "legs_df[legs_df[\"leg.tsecs\"].isna()]"
   ]
  },
  {
   "cell_type": "code",
   "execution_count": null,
   "id": "b32df890",
   "metadata": {},
   "outputs": [],
   "source": [
    "ax = sns.lineplot(legs_df,x=legs_df[\"leg_end_ts\"].dt.round(freq='10min'), y=\"num_runners_on_cleg_per_100m_mean\", hue=\"leg.nro\", palette=\"bright\")\n"
   ]
  },
  {
   "cell_type": "code",
   "execution_count": null,
   "id": "ab6c9995",
   "metadata": {},
   "outputs": [],
   "source": [
    "legs_df.to_csv(f\"data/control_legs_congestion-{ shared.race_id_str()}.csv\")"
   ]
  },
  {
   "cell_type": "code",
   "execution_count": null,
   "id": "ea9b7a90",
   "metadata": {},
   "outputs": [],
   "source": [
    "ax = sns.lineplot(legs_df,x=legs_df[\"team.tsecs\"], y=\"num_runners_on_cleg_per_100m_mean\", hue=\"leg.nro\", palette=\"bright\")\n"
   ]
  },
  {
   "cell_type": "code",
   "execution_count": null,
   "id": "78bfa865",
   "metadata": {},
   "outputs": [],
   "source": []
  }
 ],
 "metadata": {
  "language_info": {
   "name": "python"
  }
 },
 "nbformat": 4,
 "nbformat_minor": 5
}
